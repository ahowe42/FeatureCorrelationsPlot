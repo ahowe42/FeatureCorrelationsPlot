{
 "cells": [
  {
   "cell_type": "markdown",
   "metadata": {},
   "source": [
    "# Feature Correlations Plot"
   ]
  },
  {
   "cell_type": "code",
   "execution_count": 1,
   "metadata": {},
   "outputs": [
    {
     "data": {
      "text/html": [
       "        <script type=\"text/javascript\">\n",
       "        window.PlotlyConfig = {MathJaxConfig: 'local'};\n",
       "        if (window.MathJax) {MathJax.Hub.Config({SVG: {font: \"STIX-Web\"}});}\n",
       "        if (typeof require !== 'undefined') {\n",
       "        require.undef(\"plotly\");\n",
       "        requirejs.config({\n",
       "            paths: {\n",
       "                'plotly': ['https://cdn.plot.ly/plotly-latest.min']\n",
       "            }\n",
       "        });\n",
       "        require(['plotly'], function(Plotly) {\n",
       "            window._Plotly = Plotly;\n",
       "        });\n",
       "        }\n",
       "        </script>\n",
       "        "
      ]
     },
     "metadata": {},
     "output_type": "display_data"
    },
    {
     "data": {
      "application/vnd.plotly.v1+json": {
       "config": {
        "linkText": "Export to plot.ly",
        "plotlyServerURL": "https://plot.ly",
        "showLink": false
       },
       "data": [
        {
         "mode": "markers",
         "type": "scatter",
         "x": [
          1,
          4,
          7
         ],
         "y": [
          7,
          5,
          7
         ]
        },
        {
         "mode": "lines",
         "type": "scatter",
         "x": [
          1,
          2,
          3,
          4,
          5,
          6,
          7
         ],
         "y": [
          3,
          2,
          1,
          1,
          1,
          2,
          3
         ]
        }
       ],
       "layout": {
        "autosize": false,
        "height": 450,
        "showlegend": false,
        "template": {
         "data": {
          "bar": [
           {
            "error_x": {
             "color": "#2a3f5f"
            },
            "error_y": {
             "color": "#2a3f5f"
            },
            "marker": {
             "line": {
              "color": "#E5ECF6",
              "width": 0.5
             }
            },
            "type": "bar"
           }
          ],
          "barpolar": [
           {
            "marker": {
             "line": {
              "color": "#E5ECF6",
              "width": 0.5
             }
            },
            "type": "barpolar"
           }
          ],
          "carpet": [
           {
            "aaxis": {
             "endlinecolor": "#2a3f5f",
             "gridcolor": "white",
             "linecolor": "white",
             "minorgridcolor": "white",
             "startlinecolor": "#2a3f5f"
            },
            "baxis": {
             "endlinecolor": "#2a3f5f",
             "gridcolor": "white",
             "linecolor": "white",
             "minorgridcolor": "white",
             "startlinecolor": "#2a3f5f"
            },
            "type": "carpet"
           }
          ],
          "choropleth": [
           {
            "colorbar": {
             "outlinewidth": 0,
             "ticks": ""
            },
            "type": "choropleth"
           }
          ],
          "contour": [
           {
            "colorbar": {
             "outlinewidth": 0,
             "ticks": ""
            },
            "colorscale": [
             [
              0,
              "#0d0887"
             ],
             [
              0.1111111111111111,
              "#46039f"
             ],
             [
              0.2222222222222222,
              "#7201a8"
             ],
             [
              0.3333333333333333,
              "#9c179e"
             ],
             [
              0.4444444444444444,
              "#bd3786"
             ],
             [
              0.5555555555555556,
              "#d8576b"
             ],
             [
              0.6666666666666666,
              "#ed7953"
             ],
             [
              0.7777777777777778,
              "#fb9f3a"
             ],
             [
              0.8888888888888888,
              "#fdca26"
             ],
             [
              1,
              "#f0f921"
             ]
            ],
            "type": "contour"
           }
          ],
          "contourcarpet": [
           {
            "colorbar": {
             "outlinewidth": 0,
             "ticks": ""
            },
            "type": "contourcarpet"
           }
          ],
          "heatmap": [
           {
            "colorbar": {
             "outlinewidth": 0,
             "ticks": ""
            },
            "colorscale": [
             [
              0,
              "#0d0887"
             ],
             [
              0.1111111111111111,
              "#46039f"
             ],
             [
              0.2222222222222222,
              "#7201a8"
             ],
             [
              0.3333333333333333,
              "#9c179e"
             ],
             [
              0.4444444444444444,
              "#bd3786"
             ],
             [
              0.5555555555555556,
              "#d8576b"
             ],
             [
              0.6666666666666666,
              "#ed7953"
             ],
             [
              0.7777777777777778,
              "#fb9f3a"
             ],
             [
              0.8888888888888888,
              "#fdca26"
             ],
             [
              1,
              "#f0f921"
             ]
            ],
            "type": "heatmap"
           }
          ],
          "heatmapgl": [
           {
            "colorbar": {
             "outlinewidth": 0,
             "ticks": ""
            },
            "colorscale": [
             [
              0,
              "#0d0887"
             ],
             [
              0.1111111111111111,
              "#46039f"
             ],
             [
              0.2222222222222222,
              "#7201a8"
             ],
             [
              0.3333333333333333,
              "#9c179e"
             ],
             [
              0.4444444444444444,
              "#bd3786"
             ],
             [
              0.5555555555555556,
              "#d8576b"
             ],
             [
              0.6666666666666666,
              "#ed7953"
             ],
             [
              0.7777777777777778,
              "#fb9f3a"
             ],
             [
              0.8888888888888888,
              "#fdca26"
             ],
             [
              1,
              "#f0f921"
             ]
            ],
            "type": "heatmapgl"
           }
          ],
          "histogram": [
           {
            "marker": {
             "colorbar": {
              "outlinewidth": 0,
              "ticks": ""
             }
            },
            "type": "histogram"
           }
          ],
          "histogram2d": [
           {
            "colorbar": {
             "outlinewidth": 0,
             "ticks": ""
            },
            "colorscale": [
             [
              0,
              "#0d0887"
             ],
             [
              0.1111111111111111,
              "#46039f"
             ],
             [
              0.2222222222222222,
              "#7201a8"
             ],
             [
              0.3333333333333333,
              "#9c179e"
             ],
             [
              0.4444444444444444,
              "#bd3786"
             ],
             [
              0.5555555555555556,
              "#d8576b"
             ],
             [
              0.6666666666666666,
              "#ed7953"
             ],
             [
              0.7777777777777778,
              "#fb9f3a"
             ],
             [
              0.8888888888888888,
              "#fdca26"
             ],
             [
              1,
              "#f0f921"
             ]
            ],
            "type": "histogram2d"
           }
          ],
          "histogram2dcontour": [
           {
            "colorbar": {
             "outlinewidth": 0,
             "ticks": ""
            },
            "colorscale": [
             [
              0,
              "#0d0887"
             ],
             [
              0.1111111111111111,
              "#46039f"
             ],
             [
              0.2222222222222222,
              "#7201a8"
             ],
             [
              0.3333333333333333,
              "#9c179e"
             ],
             [
              0.4444444444444444,
              "#bd3786"
             ],
             [
              0.5555555555555556,
              "#d8576b"
             ],
             [
              0.6666666666666666,
              "#ed7953"
             ],
             [
              0.7777777777777778,
              "#fb9f3a"
             ],
             [
              0.8888888888888888,
              "#fdca26"
             ],
             [
              1,
              "#f0f921"
             ]
            ],
            "type": "histogram2dcontour"
           }
          ],
          "mesh3d": [
           {
            "colorbar": {
             "outlinewidth": 0,
             "ticks": ""
            },
            "type": "mesh3d"
           }
          ],
          "parcoords": [
           {
            "line": {
             "colorbar": {
              "outlinewidth": 0,
              "ticks": ""
             }
            },
            "type": "parcoords"
           }
          ],
          "scatter": [
           {
            "marker": {
             "colorbar": {
              "outlinewidth": 0,
              "ticks": ""
             }
            },
            "type": "scatter"
           }
          ],
          "scatter3d": [
           {
            "line": {
             "colorbar": {
              "outlinewidth": 0,
              "ticks": ""
             }
            },
            "marker": {
             "colorbar": {
              "outlinewidth": 0,
              "ticks": ""
             }
            },
            "type": "scatter3d"
           }
          ],
          "scattercarpet": [
           {
            "marker": {
             "colorbar": {
              "outlinewidth": 0,
              "ticks": ""
             }
            },
            "type": "scattercarpet"
           }
          ],
          "scattergeo": [
           {
            "marker": {
             "colorbar": {
              "outlinewidth": 0,
              "ticks": ""
             }
            },
            "type": "scattergeo"
           }
          ],
          "scattergl": [
           {
            "marker": {
             "colorbar": {
              "outlinewidth": 0,
              "ticks": ""
             }
            },
            "type": "scattergl"
           }
          ],
          "scattermapbox": [
           {
            "marker": {
             "colorbar": {
              "outlinewidth": 0,
              "ticks": ""
             }
            },
            "type": "scattermapbox"
           }
          ],
          "scatterpolar": [
           {
            "marker": {
             "colorbar": {
              "outlinewidth": 0,
              "ticks": ""
             }
            },
            "type": "scatterpolar"
           }
          ],
          "scatterpolargl": [
           {
            "marker": {
             "colorbar": {
              "outlinewidth": 0,
              "ticks": ""
             }
            },
            "type": "scatterpolargl"
           }
          ],
          "scatterternary": [
           {
            "marker": {
             "colorbar": {
              "outlinewidth": 0,
              "ticks": ""
             }
            },
            "type": "scatterternary"
           }
          ],
          "surface": [
           {
            "colorbar": {
             "outlinewidth": 0,
             "ticks": ""
            },
            "colorscale": [
             [
              0,
              "#0d0887"
             ],
             [
              0.1111111111111111,
              "#46039f"
             ],
             [
              0.2222222222222222,
              "#7201a8"
             ],
             [
              0.3333333333333333,
              "#9c179e"
             ],
             [
              0.4444444444444444,
              "#bd3786"
             ],
             [
              0.5555555555555556,
              "#d8576b"
             ],
             [
              0.6666666666666666,
              "#ed7953"
             ],
             [
              0.7777777777777778,
              "#fb9f3a"
             ],
             [
              0.8888888888888888,
              "#fdca26"
             ],
             [
              1,
              "#f0f921"
             ]
            ],
            "type": "surface"
           }
          ],
          "table": [
           {
            "cells": {
             "fill": {
              "color": "#EBF0F8"
             },
             "line": {
              "color": "white"
             }
            },
            "header": {
             "fill": {
              "color": "#C8D4E3"
             },
             "line": {
              "color": "white"
             }
            },
            "type": "table"
           }
          ]
         },
         "layout": {
          "annotationdefaults": {
           "arrowcolor": "#2a3f5f",
           "arrowhead": 0,
           "arrowwidth": 1
          },
          "colorscale": {
           "diverging": [
            [
             0,
             "#8e0152"
            ],
            [
             0.1,
             "#c51b7d"
            ],
            [
             0.2,
             "#de77ae"
            ],
            [
             0.3,
             "#f1b6da"
            ],
            [
             0.4,
             "#fde0ef"
            ],
            [
             0.5,
             "#f7f7f7"
            ],
            [
             0.6,
             "#e6f5d0"
            ],
            [
             0.7,
             "#b8e186"
            ],
            [
             0.8,
             "#7fbc41"
            ],
            [
             0.9,
             "#4d9221"
            ],
            [
             1,
             "#276419"
            ]
           ],
           "sequential": [
            [
             0,
             "#0d0887"
            ],
            [
             0.1111111111111111,
             "#46039f"
            ],
            [
             0.2222222222222222,
             "#7201a8"
            ],
            [
             0.3333333333333333,
             "#9c179e"
            ],
            [
             0.4444444444444444,
             "#bd3786"
            ],
            [
             0.5555555555555556,
             "#d8576b"
            ],
            [
             0.6666666666666666,
             "#ed7953"
            ],
            [
             0.7777777777777778,
             "#fb9f3a"
            ],
            [
             0.8888888888888888,
             "#fdca26"
            ],
            [
             1,
             "#f0f921"
            ]
           ],
           "sequentialminus": [
            [
             0,
             "#0d0887"
            ],
            [
             0.1111111111111111,
             "#46039f"
            ],
            [
             0.2222222222222222,
             "#7201a8"
            ],
            [
             0.3333333333333333,
             "#9c179e"
            ],
            [
             0.4444444444444444,
             "#bd3786"
            ],
            [
             0.5555555555555556,
             "#d8576b"
            ],
            [
             0.6666666666666666,
             "#ed7953"
            ],
            [
             0.7777777777777778,
             "#fb9f3a"
            ],
            [
             0.8888888888888888,
             "#fdca26"
            ],
            [
             1,
             "#f0f921"
            ]
           ]
          },
          "colorway": [
           "#636efa",
           "#EF553B",
           "#00cc96",
           "#ab63fa",
           "#FFA15A",
           "#19d3f3",
           "#FF6692",
           "#B6E880",
           "#FF97FF",
           "#FECB52"
          ],
          "font": {
           "color": "#2a3f5f"
          },
          "geo": {
           "bgcolor": "white",
           "lakecolor": "white",
           "landcolor": "#E5ECF6",
           "showlakes": true,
           "showland": true,
           "subunitcolor": "white"
          },
          "hoverlabel": {
           "align": "left"
          },
          "hovermode": "closest",
          "mapbox": {
           "style": "light"
          },
          "paper_bgcolor": "white",
          "plot_bgcolor": "#E5ECF6",
          "polar": {
           "angularaxis": {
            "gridcolor": "white",
            "linecolor": "white",
            "ticks": ""
           },
           "bgcolor": "#E5ECF6",
           "radialaxis": {
            "gridcolor": "white",
            "linecolor": "white",
            "ticks": ""
           }
          },
          "scene": {
           "xaxis": {
            "backgroundcolor": "#E5ECF6",
            "gridcolor": "white",
            "gridwidth": 2,
            "linecolor": "white",
            "showbackground": true,
            "ticks": "",
            "zerolinecolor": "white"
           },
           "yaxis": {
            "backgroundcolor": "#E5ECF6",
            "gridcolor": "white",
            "gridwidth": 2,
            "linecolor": "white",
            "showbackground": true,
            "ticks": "",
            "zerolinecolor": "white"
           },
           "zaxis": {
            "backgroundcolor": "#E5ECF6",
            "gridcolor": "white",
            "gridwidth": 2,
            "linecolor": "white",
            "showbackground": true,
            "ticks": "",
            "zerolinecolor": "white"
           }
          },
          "shapedefaults": {
           "line": {
            "color": "#2a3f5f"
           }
          },
          "ternary": {
           "aaxis": {
            "gridcolor": "white",
            "linecolor": "white",
            "ticks": ""
           },
           "baxis": {
            "gridcolor": "white",
            "linecolor": "white",
            "ticks": ""
           },
           "bgcolor": "#E5ECF6",
           "caxis": {
            "gridcolor": "white",
            "linecolor": "white",
            "ticks": ""
           }
          },
          "title": {
           "x": 0.05
          },
          "xaxis": {
           "automargin": true,
           "gridcolor": "white",
           "linecolor": "white",
           "ticks": "",
           "zerolinecolor": "white",
           "zerolinewidth": 2
          },
          "yaxis": {
           "automargin": true,
           "gridcolor": "white",
           "linecolor": "white",
           "ticks": "",
           "zerolinecolor": "white",
           "zerolinewidth": 2
          }
         }
        },
        "title": {
         "text": "Initialization Makes Me Smile<br>(and it's fun to show off a little...)"
        },
        "width": 500,
        "xaxis": {
         "autorange": true,
         "range": [
          0.5829145728643216,
          7.417085427135678
         ],
         "showgrid": false,
         "showticklabels": false,
         "type": "linear"
        },
        "yaxis": {
         "autorange": true,
         "range": [
          0.6614420062695925,
          7.432601880877743
         ],
         "showgrid": false,
         "showticklabels": false,
         "type": "linear"
        }
       }
      },
      "image/png": "[encoded data removed]",
      "text/html": [
       "<div>\n",
       "        \n",
       "        \n",
       "            <div id=\"4ba879f6-143e-41da-bbc8-553ec6881a82\" class=\"plotly-graph-div\" style=\"height:525px; width:500px;\"></div>\n",
       "            <script type=\"text/javascript\">\n",
       "                require([\"plotly\"], function(Plotly) {\n",
       "                    window.PLOTLYENV=window.PLOTLYENV || {};\n",
       "                    \n",
       "                if (document.getElementById(\"4ba879f6-143e-41da-bbc8-553ec6881a82\")) {\n",
       "                    Plotly.newPlot(\n",
       "                        '4ba879f6-143e-41da-bbc8-553ec6881a82',\n",
       "                        [{\"mode\": \"markers\", \"type\": \"scatter\", \"x\": [1, 4, 7], \"y\": [7, 5, 7]}, {\"mode\": \"lines\", \"type\": \"scatter\", \"x\": [1, 2, 3, 4, 5, 6, 7], \"y\": [3, 2, 1, 1, 1, 2, 3]}],\n",
       "                        {\"autosize\": false, \"showlegend\": false, \"template\": {\"data\": {\"bar\": [{\"error_x\": {\"color\": \"#2a3f5f\"}, \"error_y\": {\"color\": \"#2a3f5f\"}, \"marker\": {\"line\": {\"color\": \"#E5ECF6\", \"width\": 0.5}}, \"type\": \"bar\"}], \"barpolar\": [{\"marker\": {\"line\": {\"color\": \"#E5ECF6\", \"width\": 0.5}}, \"type\": \"barpolar\"}], \"carpet\": [{\"aaxis\": {\"endlinecolor\": \"#2a3f5f\", \"gridcolor\": \"white\", \"linecolor\": \"white\", \"minorgridcolor\": \"white\", \"startlinecolor\": \"#2a3f5f\"}, \"baxis\": {\"endlinecolor\": \"#2a3f5f\", \"gridcolor\": \"white\", \"linecolor\": \"white\", \"minorgridcolor\": \"white\", \"startlinecolor\": \"#2a3f5f\"}, \"type\": \"carpet\"}], \"choropleth\": [{\"colorbar\": {\"outlinewidth\": 0, \"ticks\": \"\"}, \"type\": \"choropleth\"}], \"contour\": [{\"colorbar\": {\"outlinewidth\": 0, \"ticks\": \"\"}, \"colorscale\": [[0.0, \"#0d0887\"], [0.1111111111111111, \"#46039f\"], [0.2222222222222222, \"#7201a8\"], [0.3333333333333333, \"#9c179e\"], [0.4444444444444444, \"#bd3786\"], [0.5555555555555556, \"#d8576b\"], [0.6666666666666666, \"#ed7953\"], [0.7777777777777778, \"#fb9f3a\"], [0.8888888888888888, \"#fdca26\"], [1.0, \"#f0f921\"]], \"type\": \"contour\"}], \"contourcarpet\": [{\"colorbar\": {\"outlinewidth\": 0, \"ticks\": \"\"}, \"type\": \"contourcarpet\"}], \"heatmap\": [{\"colorbar\": {\"outlinewidth\": 0, \"ticks\": \"\"}, \"colorscale\": [[0.0, \"#0d0887\"], [0.1111111111111111, \"#46039f\"], [0.2222222222222222, \"#7201a8\"], [0.3333333333333333, \"#9c179e\"], [0.4444444444444444, \"#bd3786\"], [0.5555555555555556, \"#d8576b\"], [0.6666666666666666, \"#ed7953\"], [0.7777777777777778, \"#fb9f3a\"], [0.8888888888888888, \"#fdca26\"], [1.0, \"#f0f921\"]], \"type\": \"heatmap\"}], \"heatmapgl\": [{\"colorbar\": {\"outlinewidth\": 0, \"ticks\": \"\"}, \"colorscale\": [[0.0, \"#0d0887\"], [0.1111111111111111, \"#46039f\"], [0.2222222222222222, \"#7201a8\"], [0.3333333333333333, \"#9c179e\"], [0.4444444444444444, \"#bd3786\"], [0.5555555555555556, \"#d8576b\"], [0.6666666666666666, \"#ed7953\"], [0.7777777777777778, \"#fb9f3a\"], [0.8888888888888888, \"#fdca26\"], [1.0, \"#f0f921\"]], \"type\": \"heatmapgl\"}], \"histogram\": [{\"marker\": {\"colorbar\": {\"outlinewidth\": 0, \"ticks\": \"\"}}, \"type\": \"histogram\"}], \"histogram2d\": [{\"colorbar\": {\"outlinewidth\": 0, \"ticks\": \"\"}, \"colorscale\": [[0.0, \"#0d0887\"], [0.1111111111111111, \"#46039f\"], [0.2222222222222222, \"#7201a8\"], [0.3333333333333333, \"#9c179e\"], [0.4444444444444444, \"#bd3786\"], [0.5555555555555556, \"#d8576b\"], [0.6666666666666666, \"#ed7953\"], [0.7777777777777778, \"#fb9f3a\"], [0.8888888888888888, \"#fdca26\"], [1.0, \"#f0f921\"]], \"type\": \"histogram2d\"}], \"histogram2dcontour\": [{\"colorbar\": {\"outlinewidth\": 0, \"ticks\": \"\"}, \"colorscale\": [[0.0, \"#0d0887\"], [0.1111111111111111, \"#46039f\"], [0.2222222222222222, \"#7201a8\"], [0.3333333333333333, \"#9c179e\"], [0.4444444444444444, \"#bd3786\"], [0.5555555555555556, \"#d8576b\"], [0.6666666666666666, \"#ed7953\"], [0.7777777777777778, \"#fb9f3a\"], [0.8888888888888888, \"#fdca26\"], [1.0, \"#f0f921\"]], \"type\": \"histogram2dcontour\"}], \"mesh3d\": [{\"colorbar\": {\"outlinewidth\": 0, \"ticks\": \"\"}, \"type\": \"mesh3d\"}], \"parcoords\": [{\"line\": {\"colorbar\": {\"outlinewidth\": 0, \"ticks\": \"\"}}, \"type\": \"parcoords\"}], \"scatter\": [{\"marker\": {\"colorbar\": {\"outlinewidth\": 0, \"ticks\": \"\"}}, \"type\": \"scatter\"}], \"scatter3d\": [{\"line\": {\"colorbar\": {\"outlinewidth\": 0, \"ticks\": \"\"}}, \"marker\": {\"colorbar\": {\"outlinewidth\": 0, \"ticks\": \"\"}}, \"type\": \"scatter3d\"}], \"scattercarpet\": [{\"marker\": {\"colorbar\": {\"outlinewidth\": 0, \"ticks\": \"\"}}, \"type\": \"scattercarpet\"}], \"scattergeo\": [{\"marker\": {\"colorbar\": {\"outlinewidth\": 0, \"ticks\": \"\"}}, \"type\": \"scattergeo\"}], \"scattergl\": [{\"marker\": {\"colorbar\": {\"outlinewidth\": 0, \"ticks\": \"\"}}, \"type\": \"scattergl\"}], \"scattermapbox\": [{\"marker\": {\"colorbar\": {\"outlinewidth\": 0, \"ticks\": \"\"}}, \"type\": \"scattermapbox\"}], \"scatterpolar\": [{\"marker\": {\"colorbar\": {\"outlinewidth\": 0, \"ticks\": \"\"}}, \"type\": \"scatterpolar\"}], \"scatterpolargl\": [{\"marker\": {\"colorbar\": {\"outlinewidth\": 0, \"ticks\": \"\"}}, \"type\": \"scatterpolargl\"}], \"scatterternary\": [{\"marker\": {\"colorbar\": {\"outlinewidth\": 0, \"ticks\": \"\"}}, \"type\": \"scatterternary\"}], \"surface\": [{\"colorbar\": {\"outlinewidth\": 0, \"ticks\": \"\"}, \"colorscale\": [[0.0, \"#0d0887\"], [0.1111111111111111, \"#46039f\"], [0.2222222222222222, \"#7201a8\"], [0.3333333333333333, \"#9c179e\"], [0.4444444444444444, \"#bd3786\"], [0.5555555555555556, \"#d8576b\"], [0.6666666666666666, \"#ed7953\"], [0.7777777777777778, \"#fb9f3a\"], [0.8888888888888888, \"#fdca26\"], [1.0, \"#f0f921\"]], \"type\": \"surface\"}], \"table\": [{\"cells\": {\"fill\": {\"color\": \"#EBF0F8\"}, \"line\": {\"color\": \"white\"}}, \"header\": {\"fill\": {\"color\": \"#C8D4E3\"}, \"line\": {\"color\": \"white\"}}, \"type\": \"table\"}]}, \"layout\": {\"annotationdefaults\": {\"arrowcolor\": \"#2a3f5f\", \"arrowhead\": 0, \"arrowwidth\": 1}, \"colorscale\": {\"diverging\": [[0, \"#8e0152\"], [0.1, \"#c51b7d\"], [0.2, \"#de77ae\"], [0.3, \"#f1b6da\"], [0.4, \"#fde0ef\"], [0.5, \"#f7f7f7\"], [0.6, \"#e6f5d0\"], [0.7, \"#b8e186\"], [0.8, \"#7fbc41\"], [0.9, \"#4d9221\"], [1, \"#276419\"]], \"sequential\": [[0.0, \"#0d0887\"], [0.1111111111111111, \"#46039f\"], [0.2222222222222222, \"#7201a8\"], [0.3333333333333333, \"#9c179e\"], [0.4444444444444444, \"#bd3786\"], [0.5555555555555556, \"#d8576b\"], [0.6666666666666666, \"#ed7953\"], [0.7777777777777778, \"#fb9f3a\"], [0.8888888888888888, \"#fdca26\"], [1.0, \"#f0f921\"]], \"sequentialminus\": [[0.0, \"#0d0887\"], [0.1111111111111111, \"#46039f\"], [0.2222222222222222, \"#7201a8\"], [0.3333333333333333, \"#9c179e\"], [0.4444444444444444, \"#bd3786\"], [0.5555555555555556, \"#d8576b\"], [0.6666666666666666, \"#ed7953\"], [0.7777777777777778, \"#fb9f3a\"], [0.8888888888888888, \"#fdca26\"], [1.0, \"#f0f921\"]]}, \"colorway\": [\"#636efa\", \"#EF553B\", \"#00cc96\", \"#ab63fa\", \"#FFA15A\", \"#19d3f3\", \"#FF6692\", \"#B6E880\", \"#FF97FF\", \"#FECB52\"], \"font\": {\"color\": \"#2a3f5f\"}, \"geo\": {\"bgcolor\": \"white\", \"lakecolor\": \"white\", \"landcolor\": \"#E5ECF6\", \"showlakes\": true, \"showland\": true, \"subunitcolor\": \"white\"}, \"hoverlabel\": {\"align\": \"left\"}, \"hovermode\": \"closest\", \"mapbox\": {\"style\": \"light\"}, \"paper_bgcolor\": \"white\", \"plot_bgcolor\": \"#E5ECF6\", \"polar\": {\"angularaxis\": {\"gridcolor\": \"white\", \"linecolor\": \"white\", \"ticks\": \"\"}, \"bgcolor\": \"#E5ECF6\", \"radialaxis\": {\"gridcolor\": \"white\", \"linecolor\": \"white\", \"ticks\": \"\"}}, \"scene\": {\"xaxis\": {\"backgroundcolor\": \"#E5ECF6\", \"gridcolor\": \"white\", \"gridwidth\": 2, \"linecolor\": \"white\", \"showbackground\": true, \"ticks\": \"\", \"zerolinecolor\": \"white\"}, \"yaxis\": {\"backgroundcolor\": \"#E5ECF6\", \"gridcolor\": \"white\", \"gridwidth\": 2, \"linecolor\": \"white\", \"showbackground\": true, \"ticks\": \"\", \"zerolinecolor\": \"white\"}, \"zaxis\": {\"backgroundcolor\": \"#E5ECF6\", \"gridcolor\": \"white\", \"gridwidth\": 2, \"linecolor\": \"white\", \"showbackground\": true, \"ticks\": \"\", \"zerolinecolor\": \"white\"}}, \"shapedefaults\": {\"line\": {\"color\": \"#2a3f5f\"}}, \"ternary\": {\"aaxis\": {\"gridcolor\": \"white\", \"linecolor\": \"white\", \"ticks\": \"\"}, \"baxis\": {\"gridcolor\": \"white\", \"linecolor\": \"white\", \"ticks\": \"\"}, \"bgcolor\": \"#E5ECF6\", \"caxis\": {\"gridcolor\": \"white\", \"linecolor\": \"white\", \"ticks\": \"\"}}, \"title\": {\"x\": 0.05}, \"xaxis\": {\"automargin\": true, \"gridcolor\": \"white\", \"linecolor\": \"white\", \"ticks\": \"\", \"zerolinecolor\": \"white\", \"zerolinewidth\": 2}, \"yaxis\": {\"automargin\": true, \"gridcolor\": \"white\", \"linecolor\": \"white\", \"ticks\": \"\", \"zerolinecolor\": \"white\", \"zerolinewidth\": 2}}}, \"title\": {\"text\": \"Initialization Makes Me Smile<br>(and it's fun to show off a little...)\"}, \"width\": 500, \"xaxis\": {\"showgrid\": false, \"showticklabels\": false}, \"yaxis\": {\"showgrid\": false, \"showticklabels\": false}},\n",
       "                        {\"responsive\": true}\n",
       "                    ).then(function(){\n",
       "                            \n",
       "var gd = document.getElementById('4ba879f6-143e-41da-bbc8-553ec6881a82');\n",
       "var x = new MutationObserver(function (mutations, observer) {{\n",
       "        var display = window.getComputedStyle(gd).display;\n",
       "        if (!display || display === 'none') {{\n",
       "            console.log([gd, 'removed!']);\n",
       "            Plotly.purge(gd);\n",
       "            observer.disconnect();\n",
       "        }}\n",
       "}});\n",
       "\n",
       "// Listen for the removal of the full notebook cells\n",
       "var notebookContainer = gd.closest('#notebook-container');\n",
       "if (notebookContainer) {{\n",
       "    x.observe(notebookContainer, {childList: true});\n",
       "}}\n",
       "\n",
       "// Listen for the clearing of the current output cell\n",
       "var outputEl = gd.closest('.output');\n",
       "if (outputEl) {{\n",
       "    x.observe(outputEl, {childList: true});\n",
       "}}\n",
       "\n",
       "                        })\n",
       "                };\n",
       "                });\n",
       "            </script>\n",
       "        </div>"
      ]
     },
     "metadata": {},
     "output_type": "display_data"
    }
   ],
   "source": [
    "import math\n",
    "import numpy as np\n",
    "import pandas as pd\n",
    "from IPython.display import display, Markdown, Latex, HTML, IFrame\n",
    "\n",
    "import chart_studio.plotly as ply\n",
    "import chart_studio.tools as plytool\n",
    "import plotly.graph_objs as go\n",
    "import plotly.offline as plyoff\n",
    "\n",
    "# plotly initialization\n",
    "# if using jupyter lab, must have the plotly extension installed: https://github.com/jupyterlab/jupyter-renderers/tree/master/packages/plotly-extension\n",
    "# jupyter labextension install @jupyterlab/plotly-extension\n",
    "plyoff.init_notebook_mode(connected=True)\n",
    "x1 = [1,4,7]; y1 = [7,5,7]\n",
    "x2 = [1,2,3,4,5,6,7]; y2 = [3,2,1,1,1,2,3]\n",
    "plyoff.iplot(go.Figure(data=[go.Scatter({\"x\":x1, \"y\":y1, 'mode':'markers'}),\n",
    "                             go.Scatter({\"x\":x2, \"y\":y2, 'mode':'lines'})],\n",
    "                                        layout=go.Layout(autosize=False,width=500,title=\"Initialization Makes Me Smile<br>(and it's fun to show off a little...)\",\n",
    "                                                         showlegend=False, xaxis={'showgrid':False, 'showticklabels':False},\n",
    "                                                         yaxis={'showgrid':False, 'showticklabels':False})))\n",
    "\n",
    "# plotly authentication - not needed for offline mode\n",
    "plytool.set_credentials_file(username='ahowe42', api_key='PEbf792steMBTCn3TcSR')"
   ]
  },
  {
   "cell_type": "markdown",
   "metadata": {},
   "source": [
    "## Create the function that generates the feature correlations plot"
   ]
  },
  {
   "cell_type": "code",
   "execution_count": 2,
   "metadata": {},
   "outputs": [],
   "source": [
    "# current\n",
    "def correlationsPlot(rhoYourBoat, trcLims=(0.0, 1.0), tweaks=(20, None, None, 1.1)):\n",
    "    '''\n",
    "    This creates and returns a bubble plot visualization of a correlation matrix. The\n",
    "    sizes of the bubbles are proportional to the absolute magnitude of the correlations.\n",
    "    Positive correlations are only plotted in the upper triangle, with colors ranging\n",
    "    from green (0) to red (+1). Negative correlations are plotted in the lower triangle,\n",
    "    with colors ranging from green (0) to blue (-1). Perfect correlations are indicated\n",
    "    with black bubbles.\n",
    "    :param rhoYourBoat: dataframe of correlation matrix, probably created with pd.DataFrame.corr()\n",
    "    :param trcLims: (default=(0.0,1.0)) = ordered tuple of \"buckets\" in which to place absolute correlations for\n",
    "        plotting traces; must include at least 0 and 1\n",
    "    :param tweaks (default=(20,None,None,1.1)): tuple of position & size tweaking values for plotly; maximum size of\n",
    "        bubbles, plot width, plot height, y position of legend\n",
    "    :return fig: plotly correlation plot figure\n",
    "    '''\n",
    "\n",
    "    # set the granulatrity of the colors\n",
    "    n = 101  # must be odd so in the middle at correlation = 0 is just green\n",
    "\n",
    "    # number features\n",
    "    p = len(rhoYourBoat.columns)\n",
    "    ps = list(range(p))\n",
    "\n",
    "    # positive correltions are red>green\n",
    "    scl = np.linspace(1.0, 0.0, n)\n",
    "    redsP = np.round(255 * scl)\n",
    "    grnsP = 255 - redsP\n",
    "    blusP = [0.0] * n\n",
    "\n",
    "    # negative correlations are blue>green\n",
    "    scl = scl[:-1]\n",
    "    blusN = np.round(255 * scl)\n",
    "    grnsN = 255 - blusN\n",
    "    redsN = [0.0] * n\n",
    "\n",
    "    # adding 2 more to make the endpoints for perfect correlations\n",
    "    scl = np.linspace(-1.0, 1.0, 2 * n - 1 + 2)\n",
    "\n",
    "    # make the colormap - perfectly uncorrelated and perfectly correlated are black\n",
    "    rgb = ['rgb(0,0,0)']\n",
    "    rgb.extend(['rgb(%d,%d,%d)' % (r, g, b) for r, g, b in\n",
    "                zip(np.r_[redsN, redsP[::-1]], np.r_[grnsN, grnsP[::-1]], np.r_[blusN, blusP[::-1]])])\n",
    "    rgb.append('rgb(0,0,0)')\n",
    "\n",
    "    # now map correlations to colors - unhappy that I have to do this double loop :-(\n",
    "    vals = rhoYourBoat.values\n",
    "    cols = np.zeros(shape=vals.shape, dtype=object)\n",
    "    for i in ps:\n",
    "        for j in ps:\n",
    "            v = vals[i, j]\n",
    "            mni = np.argmin(np.abs(v - scl))\n",
    "            mnv = scl[mni]\n",
    "            cols[i, j] = rgb[mni]\n",
    "            # print('%0.5f,%d,%0.5f,%s'%(v,mni,mnv,cols[i,j]))\n",
    "\n",
    "    # filter data so the upper triangle is (+) correlations and lower triangle is (-) correlations\n",
    "    y = np.tile(ps, (p, 1))\n",
    "    x = y.T\n",
    "    x = x.flatten()\n",
    "    y = y.flatten()\n",
    "    vals = vals.flatten()\n",
    "    cols = cols.flatten()\n",
    "    keepind = ((y > x) & (vals > 0)) | ((x > y) & (vals < 0))\n",
    "    x = x[keepind]\n",
    "    y = y[keepind]\n",
    "    vals = vals[keepind]\n",
    "    cols = cols[keepind]\n",
    "    absVals = np.abs(vals)\n",
    "\n",
    "    # set a minimum bubble size\n",
    "    minBub = 0.09 * tweaks[0]\n",
    "\n",
    "    # put together the figure - make multiple traces\n",
    "    trc = [go.Scatter(\n",
    "        {'x': ps, 'y': ps, 'mode': 'lines', 'line': {'color': 'black'}, 'showlegend': False, 'hoverinfo': 'skip'})]\n",
    "    for i, t in enumerate(trcLims):\n",
    "        # build the index for the traces\n",
    "        if i == 0:\n",
    "            continue\n",
    "        elif i == 1:\n",
    "            indx = (absVals <= t) & (absVals >= trcLims[0])\n",
    "            trcName = '$\\\\vert\\\\rho\\\\vert\\\\in[%0.2f,%0.2f]$' % (trcLims[0], t)\n",
    "        else:\n",
    "            indx = (absVals <= t) & (absVals > trcLims[i - 1])\n",
    "            trcName = '$\\\\vert\\\\rho\\\\vert\\\\in(%0.2f,%0.2f]$' % (trcLims[i - 1], t)\n",
    "        # create & add the trace\n",
    "        trc.append(go.Scatter({'x': x[indx], 'y': y[indx], 'mode': 'markers', 'text': ['%0.4f' % v for v in vals[indx]],\n",
    "                               'name': trcName, 'hoverinfo': 'x+y+text',\n",
    "                               'marker': {'color': cols[indx], 'line': {'color': cols[indx]},\n",
    "                                          'size': np.maximum(tweaks[0] * absVals[indx], minBub)}}))\n",
    "\n",
    "    # finalize the layout\n",
    "    lout = go.Layout({'title': 'Feature Correlations Plot', 'legend': {'orientation': 'h', 'x': 0, 'y': tweaks[-1]},\n",
    "                      'xaxis': {'ticklen': 1, 'tickvals': ps, 'ticktext': rhoYourBoat.columns.values,\n",
    "                                'mirror': True, 'showgrid': False, 'range': [-1, p], 'linecolor': 'black',\n",
    "                                'linewidth': 0.5, 'zeroline': False, 'tickangle': 90},\n",
    "                      'yaxis': {'ticklen': 1, 'tickvals': ps, 'ticktext': rhoYourBoat.index.values,\n",
    "                                'mirror': True, 'showgrid': False, 'range': [-1, p], 'linecolor': 'black',\n",
    "                                'linewidth': 0.5, 'zeroline': False}})\n",
    "    if tweaks[1] is not None:\n",
    "        lout['width'] = tweaks[1]\n",
    "    if tweaks[2] is not None:\n",
    "        lout['height'] = tweaks[2]\n",
    "\n",
    "    return go.Figure(data=trc, layout=lout)"
   ]
  },
  {
   "cell_type": "markdown",
   "metadata": {},
   "source": [
    "# Demonstrate the Feature Correlations Plot using some simulated datasets"
   ]
  },
  {
   "cell_type": "code",
   "execution_count": 3,
   "metadata": {},
   "outputs": [
    {
     "data": {
      "text/html": [
       "<div>\n",
       "<style scoped>\n",
       "    .dataframe tbody tr th:only-of-type {\n",
       "        vertical-align: middle;\n",
       "    }\n",
       "\n",
       "    .dataframe tbody tr th {\n",
       "        vertical-align: top;\n",
       "    }\n",
       "\n",
       "    .dataframe thead th {\n",
       "        text-align: right;\n",
       "    }\n",
       "</style>\n",
       "<table border=\"1\" class=\"dataframe\">\n",
       "  <thead>\n",
       "    <tr style=\"text-align: right;\">\n",
       "      <th></th>\n",
       "      <th>Feature 0</th>\n",
       "      <th>Feature 1</th>\n",
       "      <th>Feature 2</th>\n",
       "      <th>Feature 3</th>\n",
       "      <th>Feature 4</th>\n",
       "      <th>Feature 5</th>\n",
       "      <th>Feature 6</th>\n",
       "    </tr>\n",
       "  </thead>\n",
       "  <tbody>\n",
       "    <tr>\n",
       "      <th>Feature 0</th>\n",
       "      <td>1.0</td>\n",
       "      <td>0.0</td>\n",
       "      <td>0.1</td>\n",
       "      <td>0.2</td>\n",
       "      <td>0.3</td>\n",
       "      <td>0.4</td>\n",
       "      <td>0.5</td>\n",
       "    </tr>\n",
       "    <tr>\n",
       "      <th>Feature 1</th>\n",
       "      <td>0.0</td>\n",
       "      <td>1.0</td>\n",
       "      <td>0.6</td>\n",
       "      <td>0.7</td>\n",
       "      <td>0.8</td>\n",
       "      <td>0.9</td>\n",
       "      <td>1.0</td>\n",
       "    </tr>\n",
       "    <tr>\n",
       "      <th>Feature 2</th>\n",
       "      <td>0.1</td>\n",
       "      <td>0.6</td>\n",
       "      <td>1.0</td>\n",
       "      <td>-0.1</td>\n",
       "      <td>-0.2</td>\n",
       "      <td>-0.3</td>\n",
       "      <td>-0.4</td>\n",
       "    </tr>\n",
       "    <tr>\n",
       "      <th>Feature 3</th>\n",
       "      <td>0.2</td>\n",
       "      <td>0.7</td>\n",
       "      <td>-0.1</td>\n",
       "      <td>1.0</td>\n",
       "      <td>-0.5</td>\n",
       "      <td>-0.6</td>\n",
       "      <td>-0.7</td>\n",
       "    </tr>\n",
       "    <tr>\n",
       "      <th>Feature 4</th>\n",
       "      <td>0.3</td>\n",
       "      <td>0.8</td>\n",
       "      <td>-0.2</td>\n",
       "      <td>-0.5</td>\n",
       "      <td>1.0</td>\n",
       "      <td>-0.8</td>\n",
       "      <td>-0.9</td>\n",
       "    </tr>\n",
       "    <tr>\n",
       "      <th>Feature 5</th>\n",
       "      <td>0.4</td>\n",
       "      <td>0.9</td>\n",
       "      <td>-0.3</td>\n",
       "      <td>-0.6</td>\n",
       "      <td>-0.8</td>\n",
       "      <td>1.0</td>\n",
       "      <td>-1.0</td>\n",
       "    </tr>\n",
       "    <tr>\n",
       "      <th>Feature 6</th>\n",
       "      <td>0.5</td>\n",
       "      <td>1.0</td>\n",
       "      <td>-0.4</td>\n",
       "      <td>-0.7</td>\n",
       "      <td>-0.9</td>\n",
       "      <td>-1.0</td>\n",
       "      <td>1.0</td>\n",
       "    </tr>\n",
       "  </tbody>\n",
       "</table>\n",
       "</div>"
      ],
      "text/plain": [
       "           Feature 0  Feature 1  Feature 2  Feature 3  Feature 4  Feature 5  \\\n",
       "Feature 0        1.0        0.0        0.1        0.2        0.3        0.4   \n",
       "Feature 1        0.0        1.0        0.6        0.7        0.8        0.9   \n",
       "Feature 2        0.1        0.6        1.0       -0.1       -0.2       -0.3   \n",
       "Feature 3        0.2        0.7       -0.1        1.0       -0.5       -0.6   \n",
       "Feature 4        0.3        0.8       -0.2       -0.5        1.0       -0.8   \n",
       "Feature 5        0.4        0.9       -0.3       -0.6       -0.8        1.0   \n",
       "Feature 6        0.5        1.0       -0.4       -0.7       -0.9       -1.0   \n",
       "\n",
       "           Feature 6  \n",
       "Feature 0        0.5  \n",
       "Feature 1        1.0  \n",
       "Feature 2       -0.4  \n",
       "Feature 3       -0.7  \n",
       "Feature 4       -0.9  \n",
       "Feature 5       -1.0  \n",
       "Feature 6        1.0  "
      ]
     },
     "metadata": {},
     "output_type": "display_data"
    },
    {
     "data": {
      "application/vnd.plotly.v1+json": {
       "config": {
        "linkText": "Export to plot.ly",
        "plotlyServerURL": "https://plot.ly",
        "showLink": false
       },
       "data": [
        {
         "hoverinfo": "skip",
         "line": {
          "color": "black"
         },
         "mode": "lines",
         "showlegend": false,
         "type": "scatter",
         "x": [
          0,
          1,
          2,
          3,
          4,
          5,
          6
         ],
         "y": [
          0,
          1,
          2,
          3,
          4,
          5,
          6
         ]
        },
        {
         "hoverinfo": "x+y+text",
         "marker": {
          "color": [
           "rgb(23,230,0)",
           "rgb(48,204,0)",
           "rgb(74,179,0)",
           "rgb(0,230,25)",
           "rgb(0,204,51)",
           "rgb(0,179,76)"
          ],
          "line": {
           "color": [
            "rgb(23,230,0)",
            "rgb(48,204,0)",
            "rgb(74,179,0)",
            "rgb(0,230,25)",
            "rgb(0,204,51)",
            "rgb(0,179,76)"
           ]
          },
          "size": [
           1,
           2,
           3,
           1,
           2,
           3
          ]
         },
         "mode": "markers",
         "name": "$\\vert\\rho\\vert\\in[0.00,0.33]$",
         "text": [
          "0.1000",
          "0.2000",
          "0.3000",
          "-0.1000",
          "-0.2000",
          "-0.3000"
         ],
         "type": "scatter",
         "x": [
          0,
          0,
          0,
          3,
          4,
          5
         ],
         "y": [
          2,
          3,
          4,
          2,
          2,
          2
         ]
        },
        {
         "hoverinfo": "x+y+text",
         "marker": {
          "color": [
           "rgb(99,153,0)",
           "rgb(125,127,0)",
           "rgb(153,99,0)",
           "rgb(0,125,130)",
           "rgb(0,99,156)",
           "rgb(0,153,102)"
          ],
          "line": {
           "color": [
            "rgb(99,153,0)",
            "rgb(125,127,0)",
            "rgb(153,99,0)",
            "rgb(0,125,130)",
            "rgb(0,99,156)",
            "rgb(0,153,102)"
           ]
          },
          "size": [
           4,
           5,
           6,
           5,
           6,
           4
          ]
         },
         "mode": "markers",
         "name": "$\\vert\\rho\\vert\\in(0.33,0.67]$",
         "text": [
          "0.4000",
          "0.5000",
          "0.6000",
          "-0.5000",
          "-0.6000",
          "-0.4000"
         ],
         "type": "scatter",
         "x": [
          0,
          0,
          1,
          4,
          5,
          6
         ],
         "y": [
          5,
          6,
          2,
          3,
          3,
          2
         ]
        },
        {
         "hoverinfo": "x+y+text",
         "marker": {
          "color": [
           "rgb(178,74,0)",
           "rgb(204,48,0)",
           "rgb(230,23,0)",
           "rgb(0, 0, 0)",
           "rgb(0,48,207)",
           "rgb(0,74,181)",
           "rgb(0,23,232)",
           "rgb(0, 0, 0)"
          ],
          "line": {
           "color": [
            "rgb(178,74,0)",
            "rgb(204,48,0)",
            "rgb(230,23,0)",
            "rgb(0, 0, 0)",
            "rgb(0,48,207)",
            "rgb(0,74,181)",
            "rgb(0,23,232)",
            "rgb(0, 0, 0)"
           ]
          },
          "size": [
           7,
           8,
           9,
           10,
           8,
           7,
           9,
           10
          ]
         },
         "mode": "markers",
         "name": "$\\vert\\rho\\vert\\in(0.67,1.00]$",
         "text": [
          "0.7000",
          "0.8000",
          "0.9000",
          "1.0000",
          "-0.8000",
          "-0.7000",
          "-0.9000",
          "-1.0000"
         ],
         "type": "scatter",
         "x": [
          1,
          1,
          1,
          1,
          5,
          6,
          6,
          6
         ],
         "y": [
          3,
          4,
          5,
          6,
          4,
          3,
          4,
          5
         ]
        }
       ],
       "layout": {
        "height": 600,
        "legend": {
         "orientation": "h",
         "x": 0,
         "y": 1.1
        },
        "template": {
         "data": {
          "bar": [
           {
            "error_x": {
             "color": "#2a3f5f"
            },
            "error_y": {
             "color": "#2a3f5f"
            },
            "marker": {
             "line": {
              "color": "#E5ECF6",
              "width": 0.5
             }
            },
            "type": "bar"
           }
          ],
          "barpolar": [
           {
            "marker": {
             "line": {
              "color": "#E5ECF6",
              "width": 0.5
             }
            },
            "type": "barpolar"
           }
          ],
          "carpet": [
           {
            "aaxis": {
             "endlinecolor": "#2a3f5f",
             "gridcolor": "white",
             "linecolor": "white",
             "minorgridcolor": "white",
             "startlinecolor": "#2a3f5f"
            },
            "baxis": {
             "endlinecolor": "#2a3f5f",
             "gridcolor": "white",
             "linecolor": "white",
             "minorgridcolor": "white",
             "startlinecolor": "#2a3f5f"
            },
            "type": "carpet"
           }
          ],
          "choropleth": [
           {
            "colorbar": {
             "outlinewidth": 0,
             "ticks": ""
            },
            "type": "choropleth"
           }
          ],
          "contour": [
           {
            "colorbar": {
             "outlinewidth": 0,
             "ticks": ""
            },
            "colorscale": [
             [
              0,
              "#0d0887"
             ],
             [
              0.1111111111111111,
              "#46039f"
             ],
             [
              0.2222222222222222,
              "#7201a8"
             ],
             [
              0.3333333333333333,
              "#9c179e"
             ],
             [
              0.4444444444444444,
              "#bd3786"
             ],
             [
              0.5555555555555556,
              "#d8576b"
             ],
             [
              0.6666666666666666,
              "#ed7953"
             ],
             [
              0.7777777777777778,
              "#fb9f3a"
             ],
             [
              0.8888888888888888,
              "#fdca26"
             ],
             [
              1,
              "#f0f921"
             ]
            ],
            "type": "contour"
           }
          ],
          "contourcarpet": [
           {
            "colorbar": {
             "outlinewidth": 0,
             "ticks": ""
            },
            "type": "contourcarpet"
           }
          ],
          "heatmap": [
           {
            "colorbar": {
             "outlinewidth": 0,
             "ticks": ""
            },
            "colorscale": [
             [
              0,
              "#0d0887"
             ],
             [
              0.1111111111111111,
              "#46039f"
             ],
             [
              0.2222222222222222,
              "#7201a8"
             ],
             [
              0.3333333333333333,
              "#9c179e"
             ],
             [
              0.4444444444444444,
              "#bd3786"
             ],
             [
              0.5555555555555556,
              "#d8576b"
             ],
             [
              0.6666666666666666,
              "#ed7953"
             ],
             [
              0.7777777777777778,
              "#fb9f3a"
             ],
             [
              0.8888888888888888,
              "#fdca26"
             ],
             [
              1,
              "#f0f921"
             ]
            ],
            "type": "heatmap"
           }
          ],
          "heatmapgl": [
           {
            "colorbar": {
             "outlinewidth": 0,
             "ticks": ""
            },
            "colorscale": [
             [
              0,
              "#0d0887"
             ],
             [
              0.1111111111111111,
              "#46039f"
             ],
             [
              0.2222222222222222,
              "#7201a8"
             ],
             [
              0.3333333333333333,
              "#9c179e"
             ],
             [
              0.4444444444444444,
              "#bd3786"
             ],
             [
              0.5555555555555556,
              "#d8576b"
             ],
             [
              0.6666666666666666,
              "#ed7953"
             ],
             [
              0.7777777777777778,
              "#fb9f3a"
             ],
             [
              0.8888888888888888,
              "#fdca26"
             ],
             [
              1,
              "#f0f921"
             ]
            ],
            "type": "heatmapgl"
           }
          ],
          "histogram": [
           {
            "marker": {
             "colorbar": {
              "outlinewidth": 0,
              "ticks": ""
             }
            },
            "type": "histogram"
           }
          ],
          "histogram2d": [
           {
            "colorbar": {
             "outlinewidth": 0,
             "ticks": ""
            },
            "colorscale": [
             [
              0,
              "#0d0887"
             ],
             [
              0.1111111111111111,
              "#46039f"
             ],
             [
              0.2222222222222222,
              "#7201a8"
             ],
             [
              0.3333333333333333,
              "#9c179e"
             ],
             [
              0.4444444444444444,
              "#bd3786"
             ],
             [
              0.5555555555555556,
              "#d8576b"
             ],
             [
              0.6666666666666666,
              "#ed7953"
             ],
             [
              0.7777777777777778,
              "#fb9f3a"
             ],
             [
              0.8888888888888888,
              "#fdca26"
             ],
             [
              1,
              "#f0f921"
             ]
            ],
            "type": "histogram2d"
           }
          ],
          "histogram2dcontour": [
           {
            "colorbar": {
             "outlinewidth": 0,
             "ticks": ""
            },
            "colorscale": [
             [
              0,
              "#0d0887"
             ],
             [
              0.1111111111111111,
              "#46039f"
             ],
             [
              0.2222222222222222,
              "#7201a8"
             ],
             [
              0.3333333333333333,
              "#9c179e"
             ],
             [
              0.4444444444444444,
              "#bd3786"
             ],
             [
              0.5555555555555556,
              "#d8576b"
             ],
             [
              0.6666666666666666,
              "#ed7953"
             ],
             [
              0.7777777777777778,
              "#fb9f3a"
             ],
             [
              0.8888888888888888,
              "#fdca26"
             ],
             [
              1,
              "#f0f921"
             ]
            ],
            "type": "histogram2dcontour"
           }
          ],
          "mesh3d": [
           {
            "colorbar": {
             "outlinewidth": 0,
             "ticks": ""
            },
            "type": "mesh3d"
           }
          ],
          "parcoords": [
           {
            "line": {
             "colorbar": {
              "outlinewidth": 0,
              "ticks": ""
             }
            },
            "type": "parcoords"
           }
          ],
          "scatter": [
           {
            "marker": {
             "colorbar": {
              "outlinewidth": 0,
              "ticks": ""
             }
            },
            "type": "scatter"
           }
          ],
          "scatter3d": [
           {
            "line": {
             "colorbar": {
              "outlinewidth": 0,
              "ticks": ""
             }
            },
            "marker": {
             "colorbar": {
              "outlinewidth": 0,
              "ticks": ""
             }
            },
            "type": "scatter3d"
           }
          ],
          "scattercarpet": [
           {
            "marker": {
             "colorbar": {
              "outlinewidth": 0,
              "ticks": ""
             }
            },
            "type": "scattercarpet"
           }
          ],
          "scattergeo": [
           {
            "marker": {
             "colorbar": {
              "outlinewidth": 0,
              "ticks": ""
             }
            },
            "type": "scattergeo"
           }
          ],
          "scattergl": [
           {
            "marker": {
             "colorbar": {
              "outlinewidth": 0,
              "ticks": ""
             }
            },
            "type": "scattergl"
           }
          ],
          "scattermapbox": [
           {
            "marker": {
             "colorbar": {
              "outlinewidth": 0,
              "ticks": ""
             }
            },
            "type": "scattermapbox"
           }
          ],
          "scatterpolar": [
           {
            "marker": {
             "colorbar": {
              "outlinewidth": 0,
              "ticks": ""
             }
            },
            "type": "scatterpolar"
           }
          ],
          "scatterpolargl": [
           {
            "marker": {
             "colorbar": {
              "outlinewidth": 0,
              "ticks": ""
             }
            },
            "type": "scatterpolargl"
           }
          ],
          "scatterternary": [
           {
            "marker": {
             "colorbar": {
              "outlinewidth": 0,
              "ticks": ""
             }
            },
            "type": "scatterternary"
           }
          ],
          "surface": [
           {
            "colorbar": {
             "outlinewidth": 0,
             "ticks": ""
            },
            "colorscale": [
             [
              0,
              "#0d0887"
             ],
             [
              0.1111111111111111,
              "#46039f"
             ],
             [
              0.2222222222222222,
              "#7201a8"
             ],
             [
              0.3333333333333333,
              "#9c179e"
             ],
             [
              0.4444444444444444,
              "#bd3786"
             ],
             [
              0.5555555555555556,
              "#d8576b"
             ],
             [
              0.6666666666666666,
              "#ed7953"
             ],
             [
              0.7777777777777778,
              "#fb9f3a"
             ],
             [
              0.8888888888888888,
              "#fdca26"
             ],
             [
              1,
              "#f0f921"
             ]
            ],
            "type": "surface"
           }
          ],
          "table": [
           {
            "cells": {
             "fill": {
              "color": "#EBF0F8"
             },
             "line": {
              "color": "white"
             }
            },
            "header": {
             "fill": {
              "color": "#C8D4E3"
             },
             "line": {
              "color": "white"
             }
            },
            "type": "table"
           }
          ]
         },
         "layout": {
          "annotationdefaults": {
           "arrowcolor": "#2a3f5f",
           "arrowhead": 0,
           "arrowwidth": 1
          },
          "colorscale": {
           "diverging": [
            [
             0,
             "#8e0152"
            ],
            [
             0.1,
             "#c51b7d"
            ],
            [
             0.2,
             "#de77ae"
            ],
            [
             0.3,
             "#f1b6da"
            ],
            [
             0.4,
             "#fde0ef"
            ],
            [
             0.5,
             "#f7f7f7"
            ],
            [
             0.6,
             "#e6f5d0"
            ],
            [
             0.7,
             "#b8e186"
            ],
            [
             0.8,
             "#7fbc41"
            ],
            [
             0.9,
             "#4d9221"
            ],
            [
             1,
             "#276419"
            ]
           ],
           "sequential": [
            [
             0,
             "#0d0887"
            ],
            [
             0.1111111111111111,
             "#46039f"
            ],
            [
             0.2222222222222222,
             "#7201a8"
            ],
            [
             0.3333333333333333,
             "#9c179e"
            ],
            [
             0.4444444444444444,
             "#bd3786"
            ],
            [
             0.5555555555555556,
             "#d8576b"
            ],
            [
             0.6666666666666666,
             "#ed7953"
            ],
            [
             0.7777777777777778,
             "#fb9f3a"
            ],
            [
             0.8888888888888888,
             "#fdca26"
            ],
            [
             1,
             "#f0f921"
            ]
           ],
           "sequentialminus": [
            [
             0,
             "#0d0887"
            ],
            [
             0.1111111111111111,
             "#46039f"
            ],
            [
             0.2222222222222222,
             "#7201a8"
            ],
            [
             0.3333333333333333,
             "#9c179e"
            ],
            [
             0.4444444444444444,
             "#bd3786"
            ],
            [
             0.5555555555555556,
             "#d8576b"
            ],
            [
             0.6666666666666666,
             "#ed7953"
            ],
            [
             0.7777777777777778,
             "#fb9f3a"
            ],
            [
             0.8888888888888888,
             "#fdca26"
            ],
            [
             1,
             "#f0f921"
            ]
           ]
          },
          "colorway": [
           "#636efa",
           "#EF553B",
           "#00cc96",
           "#ab63fa",
           "#FFA15A",
           "#19d3f3",
           "#FF6692",
           "#B6E880",
           "#FF97FF",
           "#FECB52"
          ],
          "font": {
           "color": "#2a3f5f"
          },
          "geo": {
           "bgcolor": "white",
           "lakecolor": "white",
           "landcolor": "#E5ECF6",
           "showlakes": true,
           "showland": true,
           "subunitcolor": "white"
          },
          "hoverlabel": {
           "align": "left"
          },
          "hovermode": "closest",
          "mapbox": {
           "style": "light"
          },
          "paper_bgcolor": "white",
          "plot_bgcolor": "#E5ECF6",
          "polar": {
           "angularaxis": {
            "gridcolor": "white",
            "linecolor": "white",
            "ticks": ""
           },
           "bgcolor": "#E5ECF6",
           "radialaxis": {
            "gridcolor": "white",
            "linecolor": "white",
            "ticks": ""
           }
          },
          "scene": {
           "xaxis": {
            "backgroundcolor": "#E5ECF6",
            "gridcolor": "white",
            "gridwidth": 2,
            "linecolor": "white",
            "showbackground": true,
            "ticks": "",
            "zerolinecolor": "white"
           },
           "yaxis": {
            "backgroundcolor": "#E5ECF6",
            "gridcolor": "white",
            "gridwidth": 2,
            "linecolor": "white",
            "showbackground": true,
            "ticks": "",
            "zerolinecolor": "white"
           },
           "zaxis": {
            "backgroundcolor": "#E5ECF6",
            "gridcolor": "white",
            "gridwidth": 2,
            "linecolor": "white",
            "showbackground": true,
            "ticks": "",
            "zerolinecolor": "white"
           }
          },
          "shapedefaults": {
           "line": {
            "color": "#2a3f5f"
           }
          },
          "ternary": {
           "aaxis": {
            "gridcolor": "white",
            "linecolor": "white",
            "ticks": ""
           },
           "baxis": {
            "gridcolor": "white",
            "linecolor": "white",
            "ticks": ""
           },
           "bgcolor": "#E5ECF6",
           "caxis": {
            "gridcolor": "white",
            "linecolor": "white",
            "ticks": ""
           }
          },
          "title": {
           "x": 0.05
          },
          "xaxis": {
           "automargin": true,
           "gridcolor": "white",
           "linecolor": "white",
           "ticks": "",
           "zerolinecolor": "white",
           "zerolinewidth": 2
          },
          "yaxis": {
           "automargin": true,
           "gridcolor": "white",
           "linecolor": "white",
           "ticks": "",
           "zerolinecolor": "white",
           "zerolinewidth": 2
          }
         }
        },
        "title": {
         "text": "Feature Correlations Plot"
        },
        "width": 600,
        "xaxis": {
         "linecolor": "black",
         "linewidth": 0.5,
         "mirror": true,
         "range": [
          -1,
          7
         ],
         "showgrid": false,
         "tickangle": 90,
         "ticklen": 1,
         "ticktext": [
          "Feature 0",
          "Feature 1",
          "Feature 2",
          "Feature 3",
          "Feature 4",
          "Feature 5",
          "Feature 6"
         ],
         "tickvals": [
          0,
          1,
          2,
          3,
          4,
          5,
          6
         ],
         "type": "linear",
         "zeroline": false
        },
        "yaxis": {
         "linecolor": "black",
         "linewidth": 0.5,
         "mirror": true,
         "range": [
          -1,
          7
         ],
         "showgrid": false,
         "ticklen": 1,
         "ticktext": [
          "Feature 0",
          "Feature 1",
          "Feature 2",
          "Feature 3",
          "Feature 4",
          "Feature 5",
          "Feature 6"
         ],
         "tickvals": [
          0,
          1,
          2,
          3,
          4,
          5,
          6
         ],
         "type": "linear",
         "zeroline": false
        }
       }
      },
      "image/png": "[encoded data removed]",
      "text/html": [
       "<div>\n",
       "        \n",
       "        \n",
       "            <div id=\"a5c13e9e-b998-4b00-815b-ee7db32e13ad\" class=\"plotly-graph-div\" style=\"height:600px; width:600px;\"></div>\n",
       "            <script type=\"text/javascript\">\n",
       "                require([\"plotly\"], function(Plotly) {\n",
       "                    window.PLOTLYENV=window.PLOTLYENV || {};\n",
       "                    \n",
       "                if (document.getElementById(\"a5c13e9e-b998-4b00-815b-ee7db32e13ad\")) {\n",
       "                    Plotly.newPlot(\n",
       "                        'a5c13e9e-b998-4b00-815b-ee7db32e13ad',\n",
       "                        [{\"hoverinfo\": \"skip\", \"line\": {\"color\": \"black\"}, \"mode\": \"lines\", \"showlegend\": false, \"type\": \"scatter\", \"x\": [0, 1, 2, 3, 4, 5, 6], \"y\": [0, 1, 2, 3, 4, 5, 6]}, {\"hoverinfo\": \"x+y+text\", \"marker\": {\"color\": [\"rgb(23,230,0)\", \"rgb(48,204,0)\", \"rgb(74,179,0)\", \"rgb(0,230,25)\", \"rgb(0,204,51)\", \"rgb(0,179,76)\"], \"line\": {\"color\": [\"rgb(23,230,0)\", \"rgb(48,204,0)\", \"rgb(74,179,0)\", \"rgb(0,230,25)\", \"rgb(0,204,51)\", \"rgb(0,179,76)\"]}, \"size\": [1.0, 2.0, 3.0, 1.0, 2.0, 3.0]}, \"mode\": \"markers\", \"name\": \"$\\\\vert\\\\rho\\\\vert\\\\in[0.00,0.33]$\", \"text\": [\"0.1000\", \"0.2000\", \"0.3000\", \"-0.1000\", \"-0.2000\", \"-0.3000\"], \"type\": \"scatter\", \"x\": [0, 0, 0, 3, 4, 5], \"y\": [2, 3, 4, 2, 2, 2]}, {\"hoverinfo\": \"x+y+text\", \"marker\": {\"color\": [\"rgb(99,153,0)\", \"rgb(125,127,0)\", \"rgb(153,99,0)\", \"rgb(0,125,130)\", \"rgb(0,99,156)\", \"rgb(0,153,102)\"], \"line\": {\"color\": [\"rgb(99,153,0)\", \"rgb(125,127,0)\", \"rgb(153,99,0)\", \"rgb(0,125,130)\", \"rgb(0,99,156)\", \"rgb(0,153,102)\"]}, \"size\": [4.0, 5.0, 6.0, 5.0, 6.0, 4.0]}, \"mode\": \"markers\", \"name\": \"$\\\\vert\\\\rho\\\\vert\\\\in(0.33,0.67]$\", \"text\": [\"0.4000\", \"0.5000\", \"0.6000\", \"-0.5000\", \"-0.6000\", \"-0.4000\"], \"type\": \"scatter\", \"x\": [0, 0, 1, 4, 5, 6], \"y\": [5, 6, 2, 3, 3, 2]}, {\"hoverinfo\": \"x+y+text\", \"marker\": {\"color\": [\"rgb(178,74,0)\", \"rgb(204,48,0)\", \"rgb(230,23,0)\", \"rgb(0,0,0)\", \"rgb(0,48,207)\", \"rgb(0,74,181)\", \"rgb(0,23,232)\", \"rgb(0,0,0)\"], \"line\": {\"color\": [\"rgb(178,74,0)\", \"rgb(204,48,0)\", \"rgb(230,23,0)\", \"rgb(0,0,0)\", \"rgb(0,48,207)\", \"rgb(0,74,181)\", \"rgb(0,23,232)\", \"rgb(0,0,0)\"]}, \"size\": [7.0, 8.0, 9.0, 10.0, 8.0, 7.0, 9.0, 10.0]}, \"mode\": \"markers\", \"name\": \"$\\\\vert\\\\rho\\\\vert\\\\in(0.67,1.00]$\", \"text\": [\"0.7000\", \"0.8000\", \"0.9000\", \"1.0000\", \"-0.8000\", \"-0.7000\", \"-0.9000\", \"-1.0000\"], \"type\": \"scatter\", \"x\": [1, 1, 1, 1, 5, 6, 6, 6], \"y\": [3, 4, 5, 6, 4, 3, 4, 5]}],\n",
       "                        {\"height\": 600, \"legend\": {\"orientation\": \"h\", \"x\": 0, \"y\": 1.1}, \"template\": {\"data\": {\"bar\": [{\"error_x\": {\"color\": \"#2a3f5f\"}, \"error_y\": {\"color\": \"#2a3f5f\"}, \"marker\": {\"line\": {\"color\": \"#E5ECF6\", \"width\": 0.5}}, \"type\": \"bar\"}], \"barpolar\": [{\"marker\": {\"line\": {\"color\": \"#E5ECF6\", \"width\": 0.5}}, \"type\": \"barpolar\"}], \"carpet\": [{\"aaxis\": {\"endlinecolor\": \"#2a3f5f\", \"gridcolor\": \"white\", \"linecolor\": \"white\", \"minorgridcolor\": \"white\", \"startlinecolor\": \"#2a3f5f\"}, \"baxis\": {\"endlinecolor\": \"#2a3f5f\", \"gridcolor\": \"white\", \"linecolor\": \"white\", \"minorgridcolor\": \"white\", \"startlinecolor\": \"#2a3f5f\"}, \"type\": \"carpet\"}], \"choropleth\": [{\"colorbar\": {\"outlinewidth\": 0, \"ticks\": \"\"}, \"type\": \"choropleth\"}], \"contour\": [{\"colorbar\": {\"outlinewidth\": 0, \"ticks\": \"\"}, \"colorscale\": [[0.0, \"#0d0887\"], [0.1111111111111111, \"#46039f\"], [0.2222222222222222, \"#7201a8\"], [0.3333333333333333, \"#9c179e\"], [0.4444444444444444, \"#bd3786\"], [0.5555555555555556, \"#d8576b\"], [0.6666666666666666, \"#ed7953\"], [0.7777777777777778, \"#fb9f3a\"], [0.8888888888888888, \"#fdca26\"], [1.0, \"#f0f921\"]], \"type\": \"contour\"}], \"contourcarpet\": [{\"colorbar\": {\"outlinewidth\": 0, \"ticks\": \"\"}, \"type\": \"contourcarpet\"}], \"heatmap\": [{\"colorbar\": {\"outlinewidth\": 0, \"ticks\": \"\"}, \"colorscale\": [[0.0, \"#0d0887\"], [0.1111111111111111, \"#46039f\"], [0.2222222222222222, \"#7201a8\"], [0.3333333333333333, \"#9c179e\"], [0.4444444444444444, \"#bd3786\"], [0.5555555555555556, \"#d8576b\"], [0.6666666666666666, \"#ed7953\"], [0.7777777777777778, \"#fb9f3a\"], [0.8888888888888888, \"#fdca26\"], [1.0, \"#f0f921\"]], \"type\": \"heatmap\"}], \"heatmapgl\": [{\"colorbar\": {\"outlinewidth\": 0, \"ticks\": \"\"}, \"colorscale\": [[0.0, \"#0d0887\"], [0.1111111111111111, \"#46039f\"], [0.2222222222222222, \"#7201a8\"], [0.3333333333333333, \"#9c179e\"], [0.4444444444444444, \"#bd3786\"], [0.5555555555555556, \"#d8576b\"], [0.6666666666666666, \"#ed7953\"], [0.7777777777777778, \"#fb9f3a\"], [0.8888888888888888, \"#fdca26\"], [1.0, \"#f0f921\"]], \"type\": \"heatmapgl\"}], \"histogram\": [{\"marker\": {\"colorbar\": {\"outlinewidth\": 0, \"ticks\": \"\"}}, \"type\": \"histogram\"}], \"histogram2d\": [{\"colorbar\": {\"outlinewidth\": 0, \"ticks\": \"\"}, \"colorscale\": [[0.0, \"#0d0887\"], [0.1111111111111111, \"#46039f\"], [0.2222222222222222, \"#7201a8\"], [0.3333333333333333, \"#9c179e\"], [0.4444444444444444, \"#bd3786\"], [0.5555555555555556, \"#d8576b\"], [0.6666666666666666, \"#ed7953\"], [0.7777777777777778, \"#fb9f3a\"], [0.8888888888888888, \"#fdca26\"], [1.0, \"#f0f921\"]], \"type\": \"histogram2d\"}], \"histogram2dcontour\": [{\"colorbar\": {\"outlinewidth\": 0, \"ticks\": \"\"}, \"colorscale\": [[0.0, \"#0d0887\"], [0.1111111111111111, \"#46039f\"], [0.2222222222222222, \"#7201a8\"], [0.3333333333333333, \"#9c179e\"], [0.4444444444444444, \"#bd3786\"], [0.5555555555555556, \"#d8576b\"], [0.6666666666666666, \"#ed7953\"], [0.7777777777777778, \"#fb9f3a\"], [0.8888888888888888, \"#fdca26\"], [1.0, \"#f0f921\"]], \"type\": \"histogram2dcontour\"}], \"mesh3d\": [{\"colorbar\": {\"outlinewidth\": 0, \"ticks\": \"\"}, \"type\": \"mesh3d\"}], \"parcoords\": [{\"line\": {\"colorbar\": {\"outlinewidth\": 0, \"ticks\": \"\"}}, \"type\": \"parcoords\"}], \"scatter\": [{\"marker\": {\"colorbar\": {\"outlinewidth\": 0, \"ticks\": \"\"}}, \"type\": \"scatter\"}], \"scatter3d\": [{\"line\": {\"colorbar\": {\"outlinewidth\": 0, \"ticks\": \"\"}}, \"marker\": {\"colorbar\": {\"outlinewidth\": 0, \"ticks\": \"\"}}, \"type\": \"scatter3d\"}], \"scattercarpet\": [{\"marker\": {\"colorbar\": {\"outlinewidth\": 0, \"ticks\": \"\"}}, \"type\": \"scattercarpet\"}], \"scattergeo\": [{\"marker\": {\"colorbar\": {\"outlinewidth\": 0, \"ticks\": \"\"}}, \"type\": \"scattergeo\"}], \"scattergl\": [{\"marker\": {\"colorbar\": {\"outlinewidth\": 0, \"ticks\": \"\"}}, \"type\": \"scattergl\"}], \"scattermapbox\": [{\"marker\": {\"colorbar\": {\"outlinewidth\": 0, \"ticks\": \"\"}}, \"type\": \"scattermapbox\"}], \"scatterpolar\": [{\"marker\": {\"colorbar\": {\"outlinewidth\": 0, \"ticks\": \"\"}}, \"type\": \"scatterpolar\"}], \"scatterpolargl\": [{\"marker\": {\"colorbar\": {\"outlinewidth\": 0, \"ticks\": \"\"}}, \"type\": \"scatterpolargl\"}], \"scatterternary\": [{\"marker\": {\"colorbar\": {\"outlinewidth\": 0, \"ticks\": \"\"}}, \"type\": \"scatterternary\"}], \"surface\": [{\"colorbar\": {\"outlinewidth\": 0, \"ticks\": \"\"}, \"colorscale\": [[0.0, \"#0d0887\"], [0.1111111111111111, \"#46039f\"], [0.2222222222222222, \"#7201a8\"], [0.3333333333333333, \"#9c179e\"], [0.4444444444444444, \"#bd3786\"], [0.5555555555555556, \"#d8576b\"], [0.6666666666666666, \"#ed7953\"], [0.7777777777777778, \"#fb9f3a\"], [0.8888888888888888, \"#fdca26\"], [1.0, \"#f0f921\"]], \"type\": \"surface\"}], \"table\": [{\"cells\": {\"fill\": {\"color\": \"#EBF0F8\"}, \"line\": {\"color\": \"white\"}}, \"header\": {\"fill\": {\"color\": \"#C8D4E3\"}, \"line\": {\"color\": \"white\"}}, \"type\": \"table\"}]}, \"layout\": {\"annotationdefaults\": {\"arrowcolor\": \"#2a3f5f\", \"arrowhead\": 0, \"arrowwidth\": 1}, \"colorscale\": {\"diverging\": [[0, \"#8e0152\"], [0.1, \"#c51b7d\"], [0.2, \"#de77ae\"], [0.3, \"#f1b6da\"], [0.4, \"#fde0ef\"], [0.5, \"#f7f7f7\"], [0.6, \"#e6f5d0\"], [0.7, \"#b8e186\"], [0.8, \"#7fbc41\"], [0.9, \"#4d9221\"], [1, \"#276419\"]], \"sequential\": [[0.0, \"#0d0887\"], [0.1111111111111111, \"#46039f\"], [0.2222222222222222, \"#7201a8\"], [0.3333333333333333, \"#9c179e\"], [0.4444444444444444, \"#bd3786\"], [0.5555555555555556, \"#d8576b\"], [0.6666666666666666, \"#ed7953\"], [0.7777777777777778, \"#fb9f3a\"], [0.8888888888888888, \"#fdca26\"], [1.0, \"#f0f921\"]], \"sequentialminus\": [[0.0, \"#0d0887\"], [0.1111111111111111, \"#46039f\"], [0.2222222222222222, \"#7201a8\"], [0.3333333333333333, \"#9c179e\"], [0.4444444444444444, \"#bd3786\"], [0.5555555555555556, \"#d8576b\"], [0.6666666666666666, \"#ed7953\"], [0.7777777777777778, \"#fb9f3a\"], [0.8888888888888888, \"#fdca26\"], [1.0, \"#f0f921\"]]}, \"colorway\": [\"#636efa\", \"#EF553B\", \"#00cc96\", \"#ab63fa\", \"#FFA15A\", \"#19d3f3\", \"#FF6692\", \"#B6E880\", \"#FF97FF\", \"#FECB52\"], \"font\": {\"color\": \"#2a3f5f\"}, \"geo\": {\"bgcolor\": \"white\", \"lakecolor\": \"white\", \"landcolor\": \"#E5ECF6\", \"showlakes\": true, \"showland\": true, \"subunitcolor\": \"white\"}, \"hoverlabel\": {\"align\": \"left\"}, \"hovermode\": \"closest\", \"mapbox\": {\"style\": \"light\"}, \"paper_bgcolor\": \"white\", \"plot_bgcolor\": \"#E5ECF6\", \"polar\": {\"angularaxis\": {\"gridcolor\": \"white\", \"linecolor\": \"white\", \"ticks\": \"\"}, \"bgcolor\": \"#E5ECF6\", \"radialaxis\": {\"gridcolor\": \"white\", \"linecolor\": \"white\", \"ticks\": \"\"}}, \"scene\": {\"xaxis\": {\"backgroundcolor\": \"#E5ECF6\", \"gridcolor\": \"white\", \"gridwidth\": 2, \"linecolor\": \"white\", \"showbackground\": true, \"ticks\": \"\", \"zerolinecolor\": \"white\"}, \"yaxis\": {\"backgroundcolor\": \"#E5ECF6\", \"gridcolor\": \"white\", \"gridwidth\": 2, \"linecolor\": \"white\", \"showbackground\": true, \"ticks\": \"\", \"zerolinecolor\": \"white\"}, \"zaxis\": {\"backgroundcolor\": \"#E5ECF6\", \"gridcolor\": \"white\", \"gridwidth\": 2, \"linecolor\": \"white\", \"showbackground\": true, \"ticks\": \"\", \"zerolinecolor\": \"white\"}}, \"shapedefaults\": {\"line\": {\"color\": \"#2a3f5f\"}}, \"ternary\": {\"aaxis\": {\"gridcolor\": \"white\", \"linecolor\": \"white\", \"ticks\": \"\"}, \"baxis\": {\"gridcolor\": \"white\", \"linecolor\": \"white\", \"ticks\": \"\"}, \"bgcolor\": \"#E5ECF6\", \"caxis\": {\"gridcolor\": \"white\", \"linecolor\": \"white\", \"ticks\": \"\"}}, \"title\": {\"x\": 0.05}, \"xaxis\": {\"automargin\": true, \"gridcolor\": \"white\", \"linecolor\": \"white\", \"ticks\": \"\", \"zerolinecolor\": \"white\", \"zerolinewidth\": 2}, \"yaxis\": {\"automargin\": true, \"gridcolor\": \"white\", \"linecolor\": \"white\", \"ticks\": \"\", \"zerolinecolor\": \"white\", \"zerolinewidth\": 2}}}, \"title\": {\"text\": \"Feature Correlations Plot\"}, \"width\": 600, \"xaxis\": {\"linecolor\": \"black\", \"linewidth\": 0.5, \"mirror\": true, \"range\": [-1, 7], \"showgrid\": false, \"tickangle\": 90, \"ticklen\": 1, \"ticktext\": [\"Feature 0\", \"Feature 1\", \"Feature 2\", \"Feature 3\", \"Feature 4\", \"Feature 5\", \"Feature 6\"], \"tickvals\": [0, 1, 2, 3, 4, 5, 6], \"zeroline\": false}, \"yaxis\": {\"linecolor\": \"black\", \"linewidth\": 0.5, \"mirror\": true, \"range\": [-1, 7], \"showgrid\": false, \"ticklen\": 1, \"ticktext\": [\"Feature 0\", \"Feature 1\", \"Feature 2\", \"Feature 3\", \"Feature 4\", \"Feature 5\", \"Feature 6\"], \"tickvals\": [0, 1, 2, 3, 4, 5, 6], \"zeroline\": false}},\n",
       "                        {\"responsive\": true}\n",
       "                    ).then(function(){\n",
       "                            \n",
       "var gd = document.getElementById('a5c13e9e-b998-4b00-815b-ee7db32e13ad');\n",
       "var x = new MutationObserver(function (mutations, observer) {{\n",
       "        var display = window.getComputedStyle(gd).display;\n",
       "        if (!display || display === 'none') {{\n",
       "            console.log([gd, 'removed!']);\n",
       "            Plotly.purge(gd);\n",
       "            observer.disconnect();\n",
       "        }}\n",
       "}});\n",
       "\n",
       "// Listen for the removal of the full notebook cells\n",
       "var notebookContainer = gd.closest('#notebook-container');\n",
       "if (notebookContainer) {{\n",
       "    x.observe(notebookContainer, {childList: true});\n",
       "}}\n",
       "\n",
       "// Listen for the clearing of the current output cell\n",
       "var outputEl = gd.closest('.output');\n",
       "if (outputEl) {{\n",
       "    x.observe(outputEl, {childList: true});\n",
       "}}\n",
       "\n",
       "                        })\n",
       "                };\n",
       "                });\n",
       "            </script>\n",
       "        </div>"
      ]
     },
     "metadata": {},
     "output_type": "display_data"
    }
   ],
   "source": [
    "''' create a symmetric correlation matrix showing the range of possible correlations'''\n",
    "# generate values\n",
    "vals = [0.0, 0.1, 0.2, 0.3, 0.4, 0.5, 0.6, 0.7, 0.8, 0.9, 1.0]\n",
    "vals.extend([-i for i in vals[1:]])\n",
    "\n",
    "# create the correlation matrix\n",
    "p = 7 # dimension of correlation matrix including the diagonal of 1s\n",
    "corrs = np.zeros((p,p),dtype=float)  # create the square matrix\n",
    "corrs[np.triu_indices(p,1)] = vals   # put correlations on upper triangle\n",
    "corrs = corrs + corrs.T + np.eye(p)  # add the diagonal and fold over it\n",
    "\n",
    "# make the dataframe\n",
    "cols = ['Feature %d'%i for i in range(p)]\n",
    "corrs = pd.DataFrame(data=corrs, columns=cols, index=cols)\n",
    "display(corrs)\n",
    "\n",
    "# visualize\n",
    "plyoff.iplot(CorrelationsPlot(corrs, trcLims=np.linspace(0.0,1.0,4), tweaks=(10,600,600,1.1)))"
   ]
  },
  {
   "cell_type": "code",
   "execution_count": 4,
   "metadata": {},
   "outputs": [
    {
     "name": "stderr",
     "output_type": "stream",
     "text": [
      "d:\\Continuum\\anaconda3\\lib\\site-packages\\ipykernel_launcher.py:14: RuntimeWarning:\n",
      "\n",
      "covariance is not symmetric positive-semidefinite.\n",
      "\n"
     ]
    },
    {
     "data": {
      "text/html": [
       "<div>\n",
       "<style scoped>\n",
       "    .dataframe tbody tr th:only-of-type {\n",
       "        vertical-align: middle;\n",
       "    }\n",
       "\n",
       "    .dataframe tbody tr th {\n",
       "        vertical-align: top;\n",
       "    }\n",
       "\n",
       "    .dataframe thead th {\n",
       "        text-align: right;\n",
       "    }\n",
       "</style>\n",
       "<table border=\"1\" class=\"dataframe\">\n",
       "  <thead>\n",
       "    <tr style=\"text-align: right;\">\n",
       "      <th></th>\n",
       "      <th>Feature 0</th>\n",
       "      <th>Feature 1</th>\n",
       "      <th>Feature 2</th>\n",
       "      <th>Feature 3</th>\n",
       "      <th>Feature 4</th>\n",
       "      <th>Feature 5</th>\n",
       "      <th>Feature 6</th>\n",
       "      <th>Feature 7</th>\n",
       "      <th>Feature 8</th>\n",
       "      <th>Feature 9</th>\n",
       "      <th>Feature 10</th>\n",
       "      <th>Feature 11</th>\n",
       "      <th>Feature 12</th>\n",
       "      <th>Feature 13</th>\n",
       "      <th>Feature 14</th>\n",
       "    </tr>\n",
       "  </thead>\n",
       "  <tbody>\n",
       "    <tr>\n",
       "      <th>Feature 0</th>\n",
       "      <td>1.000000</td>\n",
       "      <td>0.086346</td>\n",
       "      <td>-0.132330</td>\n",
       "      <td>-0.407491</td>\n",
       "      <td>0.001355</td>\n",
       "      <td>0.110181</td>\n",
       "      <td>-0.133270</td>\n",
       "      <td>0.363291</td>\n",
       "      <td>0.278162</td>\n",
       "      <td>-0.063531</td>\n",
       "      <td>-0.018015</td>\n",
       "      <td>0.195384</td>\n",
       "      <td>0.021674</td>\n",
       "      <td>0.216578</td>\n",
       "      <td>-0.128931</td>\n",
       "    </tr>\n",
       "    <tr>\n",
       "      <th>Feature 1</th>\n",
       "      <td>0.086346</td>\n",
       "      <td>1.000000</td>\n",
       "      <td>0.046881</td>\n",
       "      <td>-0.042778</td>\n",
       "      <td>0.020062</td>\n",
       "      <td>-0.295471</td>\n",
       "      <td>0.137732</td>\n",
       "      <td>-0.122562</td>\n",
       "      <td>0.028051</td>\n",
       "      <td>-0.085980</td>\n",
       "      <td>-0.198107</td>\n",
       "      <td>0.427383</td>\n",
       "      <td>-0.462479</td>\n",
       "      <td>0.268979</td>\n",
       "      <td>0.107803</td>\n",
       "    </tr>\n",
       "    <tr>\n",
       "      <th>Feature 2</th>\n",
       "      <td>-0.132330</td>\n",
       "      <td>0.046881</td>\n",
       "      <td>1.000000</td>\n",
       "      <td>-0.198902</td>\n",
       "      <td>-0.274197</td>\n",
       "      <td>-0.022697</td>\n",
       "      <td>0.150956</td>\n",
       "      <td>0.181112</td>\n",
       "      <td>0.008428</td>\n",
       "      <td>0.638913</td>\n",
       "      <td>0.139232</td>\n",
       "      <td>-0.223920</td>\n",
       "      <td>0.187989</td>\n",
       "      <td>0.024067</td>\n",
       "      <td>0.022935</td>\n",
       "    </tr>\n",
       "    <tr>\n",
       "      <th>Feature 3</th>\n",
       "      <td>-0.407491</td>\n",
       "      <td>-0.042778</td>\n",
       "      <td>-0.198902</td>\n",
       "      <td>1.000000</td>\n",
       "      <td>0.032433</td>\n",
       "      <td>-0.119924</td>\n",
       "      <td>-0.031241</td>\n",
       "      <td>-0.506782</td>\n",
       "      <td>-0.333663</td>\n",
       "      <td>-0.068280</td>\n",
       "      <td>-0.169954</td>\n",
       "      <td>-0.071092</td>\n",
       "      <td>0.098165</td>\n",
       "      <td>-0.299561</td>\n",
       "      <td>0.124524</td>\n",
       "    </tr>\n",
       "    <tr>\n",
       "      <th>Feature 4</th>\n",
       "      <td>0.001355</td>\n",
       "      <td>0.020062</td>\n",
       "      <td>-0.274197</td>\n",
       "      <td>0.032433</td>\n",
       "      <td>1.000000</td>\n",
       "      <td>0.001302</td>\n",
       "      <td>-0.176155</td>\n",
       "      <td>-0.158633</td>\n",
       "      <td>0.255908</td>\n",
       "      <td>-0.524155</td>\n",
       "      <td>-0.094279</td>\n",
       "      <td>0.045231</td>\n",
       "      <td>-0.152546</td>\n",
       "      <td>0.027274</td>\n",
       "      <td>-0.126591</td>\n",
       "    </tr>\n",
       "    <tr>\n",
       "      <th>Feature 5</th>\n",
       "      <td>0.110181</td>\n",
       "      <td>-0.295471</td>\n",
       "      <td>-0.022697</td>\n",
       "      <td>-0.119924</td>\n",
       "      <td>0.001302</td>\n",
       "      <td>1.000000</td>\n",
       "      <td>0.019973</td>\n",
       "      <td>-0.385193</td>\n",
       "      <td>-0.268015</td>\n",
       "      <td>0.111372</td>\n",
       "      <td>0.165290</td>\n",
       "      <td>0.226477</td>\n",
       "      <td>-0.144198</td>\n",
       "      <td>0.043895</td>\n",
       "      <td>-0.126542</td>\n",
       "    </tr>\n",
       "    <tr>\n",
       "      <th>Feature 6</th>\n",
       "      <td>-0.133270</td>\n",
       "      <td>0.137732</td>\n",
       "      <td>0.150956</td>\n",
       "      <td>-0.031241</td>\n",
       "      <td>-0.176155</td>\n",
       "      <td>0.019973</td>\n",
       "      <td>1.000000</td>\n",
       "      <td>-0.120709</td>\n",
       "      <td>-0.321479</td>\n",
       "      <td>0.294020</td>\n",
       "      <td>-0.034923</td>\n",
       "      <td>-0.183003</td>\n",
       "      <td>-0.017316</td>\n",
       "      <td>-0.436863</td>\n",
       "      <td>0.452834</td>\n",
       "    </tr>\n",
       "    <tr>\n",
       "      <th>Feature 7</th>\n",
       "      <td>0.363291</td>\n",
       "      <td>-0.122562</td>\n",
       "      <td>0.181112</td>\n",
       "      <td>-0.506782</td>\n",
       "      <td>-0.158633</td>\n",
       "      <td>-0.385193</td>\n",
       "      <td>-0.120709</td>\n",
       "      <td>1.000000</td>\n",
       "      <td>0.257239</td>\n",
       "      <td>0.022645</td>\n",
       "      <td>0.237214</td>\n",
       "      <td>-0.312682</td>\n",
       "      <td>0.250094</td>\n",
       "      <td>0.269736</td>\n",
       "      <td>-0.023941</td>\n",
       "    </tr>\n",
       "    <tr>\n",
       "      <th>Feature 8</th>\n",
       "      <td>0.278162</td>\n",
       "      <td>0.028051</td>\n",
       "      <td>0.008428</td>\n",
       "      <td>-0.333663</td>\n",
       "      <td>0.255908</td>\n",
       "      <td>-0.268015</td>\n",
       "      <td>-0.321479</td>\n",
       "      <td>0.257239</td>\n",
       "      <td>1.000000</td>\n",
       "      <td>-0.264269</td>\n",
       "      <td>-0.476306</td>\n",
       "      <td>0.271226</td>\n",
       "      <td>0.002255</td>\n",
       "      <td>0.534756</td>\n",
       "      <td>-0.216726</td>\n",
       "    </tr>\n",
       "    <tr>\n",
       "      <th>Feature 9</th>\n",
       "      <td>-0.063531</td>\n",
       "      <td>-0.085980</td>\n",
       "      <td>0.638913</td>\n",
       "      <td>-0.068280</td>\n",
       "      <td>-0.524155</td>\n",
       "      <td>0.111372</td>\n",
       "      <td>0.294020</td>\n",
       "      <td>0.022645</td>\n",
       "      <td>-0.264269</td>\n",
       "      <td>1.000000</td>\n",
       "      <td>0.311994</td>\n",
       "      <td>-0.372697</td>\n",
       "      <td>0.088878</td>\n",
       "      <td>-0.319917</td>\n",
       "      <td>0.121609</td>\n",
       "    </tr>\n",
       "    <tr>\n",
       "      <th>Feature 10</th>\n",
       "      <td>-0.018015</td>\n",
       "      <td>-0.198107</td>\n",
       "      <td>0.139232</td>\n",
       "      <td>-0.169954</td>\n",
       "      <td>-0.094279</td>\n",
       "      <td>0.165290</td>\n",
       "      <td>-0.034923</td>\n",
       "      <td>0.237214</td>\n",
       "      <td>-0.476306</td>\n",
       "      <td>0.311994</td>\n",
       "      <td>1.000000</td>\n",
       "      <td>-0.304718</td>\n",
       "      <td>0.060421</td>\n",
       "      <td>-0.272106</td>\n",
       "      <td>-0.140515</td>\n",
       "    </tr>\n",
       "    <tr>\n",
       "      <th>Feature 11</th>\n",
       "      <td>0.195384</td>\n",
       "      <td>0.427383</td>\n",
       "      <td>-0.223920</td>\n",
       "      <td>-0.071092</td>\n",
       "      <td>0.045231</td>\n",
       "      <td>0.226477</td>\n",
       "      <td>-0.183003</td>\n",
       "      <td>-0.312682</td>\n",
       "      <td>0.271226</td>\n",
       "      <td>-0.372697</td>\n",
       "      <td>-0.304718</td>\n",
       "      <td>1.000000</td>\n",
       "      <td>-0.090063</td>\n",
       "      <td>0.517095</td>\n",
       "      <td>-0.394105</td>\n",
       "    </tr>\n",
       "    <tr>\n",
       "      <th>Feature 12</th>\n",
       "      <td>0.021674</td>\n",
       "      <td>-0.462479</td>\n",
       "      <td>0.187989</td>\n",
       "      <td>0.098165</td>\n",
       "      <td>-0.152546</td>\n",
       "      <td>-0.144198</td>\n",
       "      <td>-0.017316</td>\n",
       "      <td>0.250094</td>\n",
       "      <td>0.002255</td>\n",
       "      <td>0.088878</td>\n",
       "      <td>0.060421</td>\n",
       "      <td>-0.090063</td>\n",
       "      <td>1.000000</td>\n",
       "      <td>-0.092036</td>\n",
       "      <td>-0.152013</td>\n",
       "    </tr>\n",
       "    <tr>\n",
       "      <th>Feature 13</th>\n",
       "      <td>0.216578</td>\n",
       "      <td>0.268979</td>\n",
       "      <td>0.024067</td>\n",
       "      <td>-0.299561</td>\n",
       "      <td>0.027274</td>\n",
       "      <td>0.043895</td>\n",
       "      <td>-0.436863</td>\n",
       "      <td>0.269736</td>\n",
       "      <td>0.534756</td>\n",
       "      <td>-0.319917</td>\n",
       "      <td>-0.272106</td>\n",
       "      <td>0.517095</td>\n",
       "      <td>-0.092036</td>\n",
       "      <td>1.000000</td>\n",
       "      <td>-0.057793</td>\n",
       "    </tr>\n",
       "    <tr>\n",
       "      <th>Feature 14</th>\n",
       "      <td>-0.128931</td>\n",
       "      <td>0.107803</td>\n",
       "      <td>0.022935</td>\n",
       "      <td>0.124524</td>\n",
       "      <td>-0.126591</td>\n",
       "      <td>-0.126542</td>\n",
       "      <td>0.452834</td>\n",
       "      <td>-0.023941</td>\n",
       "      <td>-0.216726</td>\n",
       "      <td>0.121609</td>\n",
       "      <td>-0.140515</td>\n",
       "      <td>-0.394105</td>\n",
       "      <td>-0.152013</td>\n",
       "      <td>-0.057793</td>\n",
       "      <td>1.000000</td>\n",
       "    </tr>\n",
       "  </tbody>\n",
       "</table>\n",
       "</div>"
      ],
      "text/plain": [
       "            Feature 0  Feature 1  Feature 2  Feature 3  Feature 4  Feature 5  \\\n",
       "Feature 0    1.000000   0.086346  -0.132330  -0.407491   0.001355   0.110181   \n",
       "Feature 1    0.086346   1.000000   0.046881  -0.042778   0.020062  -0.295471   \n",
       "Feature 2   -0.132330   0.046881   1.000000  -0.198902  -0.274197  -0.022697   \n",
       "Feature 3   -0.407491  -0.042778  -0.198902   1.000000   0.032433  -0.119924   \n",
       "Feature 4    0.001355   0.020062  -0.274197   0.032433   1.000000   0.001302   \n",
       "Feature 5    0.110181  -0.295471  -0.022697  -0.119924   0.001302   1.000000   \n",
       "Feature 6   -0.133270   0.137732   0.150956  -0.031241  -0.176155   0.019973   \n",
       "Feature 7    0.363291  -0.122562   0.181112  -0.506782  -0.158633  -0.385193   \n",
       "Feature 8    0.278162   0.028051   0.008428  -0.333663   0.255908  -0.268015   \n",
       "Feature 9   -0.063531  -0.085980   0.638913  -0.068280  -0.524155   0.111372   \n",
       "Feature 10  -0.018015  -0.198107   0.139232  -0.169954  -0.094279   0.165290   \n",
       "Feature 11   0.195384   0.427383  -0.223920  -0.071092   0.045231   0.226477   \n",
       "Feature 12   0.021674  -0.462479   0.187989   0.098165  -0.152546  -0.144198   \n",
       "Feature 13   0.216578   0.268979   0.024067  -0.299561   0.027274   0.043895   \n",
       "Feature 14  -0.128931   0.107803   0.022935   0.124524  -0.126591  -0.126542   \n",
       "\n",
       "            Feature 6  Feature 7  Feature 8  Feature 9  Feature 10  \\\n",
       "Feature 0   -0.133270   0.363291   0.278162  -0.063531   -0.018015   \n",
       "Feature 1    0.137732  -0.122562   0.028051  -0.085980   -0.198107   \n",
       "Feature 2    0.150956   0.181112   0.008428   0.638913    0.139232   \n",
       "Feature 3   -0.031241  -0.506782  -0.333663  -0.068280   -0.169954   \n",
       "Feature 4   -0.176155  -0.158633   0.255908  -0.524155   -0.094279   \n",
       "Feature 5    0.019973  -0.385193  -0.268015   0.111372    0.165290   \n",
       "Feature 6    1.000000  -0.120709  -0.321479   0.294020   -0.034923   \n",
       "Feature 7   -0.120709   1.000000   0.257239   0.022645    0.237214   \n",
       "Feature 8   -0.321479   0.257239   1.000000  -0.264269   -0.476306   \n",
       "Feature 9    0.294020   0.022645  -0.264269   1.000000    0.311994   \n",
       "Feature 10  -0.034923   0.237214  -0.476306   0.311994    1.000000   \n",
       "Feature 11  -0.183003  -0.312682   0.271226  -0.372697   -0.304718   \n",
       "Feature 12  -0.017316   0.250094   0.002255   0.088878    0.060421   \n",
       "Feature 13  -0.436863   0.269736   0.534756  -0.319917   -0.272106   \n",
       "Feature 14   0.452834  -0.023941  -0.216726   0.121609   -0.140515   \n",
       "\n",
       "            Feature 11  Feature 12  Feature 13  Feature 14  \n",
       "Feature 0     0.195384    0.021674    0.216578   -0.128931  \n",
       "Feature 1     0.427383   -0.462479    0.268979    0.107803  \n",
       "Feature 2    -0.223920    0.187989    0.024067    0.022935  \n",
       "Feature 3    -0.071092    0.098165   -0.299561    0.124524  \n",
       "Feature 4     0.045231   -0.152546    0.027274   -0.126591  \n",
       "Feature 5     0.226477   -0.144198    0.043895   -0.126542  \n",
       "Feature 6    -0.183003   -0.017316   -0.436863    0.452834  \n",
       "Feature 7    -0.312682    0.250094    0.269736   -0.023941  \n",
       "Feature 8     0.271226    0.002255    0.534756   -0.216726  \n",
       "Feature 9    -0.372697    0.088878   -0.319917    0.121609  \n",
       "Feature 10   -0.304718    0.060421   -0.272106   -0.140515  \n",
       "Feature 11    1.000000   -0.090063    0.517095   -0.394105  \n",
       "Feature 12   -0.090063    1.000000   -0.092036   -0.152013  \n",
       "Feature 13    0.517095   -0.092036    1.000000   -0.057793  \n",
       "Feature 14   -0.394105   -0.152013   -0.057793    1.000000  "
      ]
     },
     "metadata": {},
     "output_type": "display_data"
    },
    {
     "data": {
      "application/vnd.plotly.v1+json": {
       "config": {
        "linkText": "Export to plot.ly",
        "plotlyServerURL": "https://plot.ly",
        "showLink": false
       },
       "data": [
        {
         "hoverinfo": "skip",
         "line": {
          "color": "black"
         },
         "mode": "lines",
         "showlegend": false,
         "type": "scatter",
         "x": [
          0,
          1,
          2,
          3,
          4,
          5,
          6,
          7,
          8,
          9,
          10,
          11,
          12,
          13,
          14
         ],
         "y": [
          0,
          1,
          2,
          3,
          4,
          5,
          6,
          7,
          8,
          9,
          10,
          11,
          12,
          13,
          14
         ]
        },
        {
         "hoverinfo": "x+y+text",
         "marker": {
          "color": [
           "rgb(20,232,0)",
           "rgb(0,255,0)",
           "rgb(25,227,0)",
           "rgb(92,161,0)",
           "rgb(69,184,0)",
           "rgb(48,204,0)",
           "rgb(3,250,0)",
           "rgb(54,199,0)",
           "rgb(10,242,0)",
           "rgb(3,250,0)",
           "rgb(33,219,0)",
           "rgb(5,247,0)",
           "rgb(107,145,0)",
           "rgb(66,186,0)",
           "rgb(25,227,0)",
           "rgb(0,222,33)",
           "rgb(36,217,0)",
           "rgb(43,209,0)",
           "rgb(0,252,0)",
           "rgb(33,219,0)",
           "rgb(46,207,0)",
           "rgb(3,250,0)",
           "rgb(3,250,0)",
           "rgb(0,150,105)",
           "rgb(0,245,10)",
           "rgb(0,204,51)",
           "rgb(5,247,0)",
           "rgb(23,230,0)",
           "rgb(31,222,0)",
           "rgb(0,184,71)",
           "rgb(0,255,0)",
           "rgb(64,189,0)",
           "rgb(10,242,0)",
           "rgb(5,247,0)",
           "rgb(0,179,76)",
           "rgb(0,250,5)",
           "rgb(0,224,31)",
           "rgb(3,250,0)",
           "rgb(25,227,0)",
           "rgb(41,212,0)",
           "rgb(56,196,0)",
           "rgb(8,245,0)",
           "rgb(0,222,33)",
           "rgb(0,247,8)",
           "rgb(0,209,46)",
           "rgb(74,179,0)",
           "rgb(115,138,0)",
           "rgb(0,224,31)",
           "rgb(0,214,41)",
           "rgb(0,156,99)",
           "rgb(0,224,31)",
           "rgb(64,189,0)",
           "rgb(3,250,0)",
           "rgb(59,194,0)",
           "rgb(61,191,0)",
           "rgb(66,186,0)",
           "rgb(0,168,87)",
           "rgb(0,186,69)",
           "rgb(0,173,82)",
           "rgb(66,186,0)",
           "rgb(0,255,0)",
           "rgb(0,240,15)",
           "rgb(0,232,23)",
           "rgb(0,237,18)",
           "rgb(0,186,69)",
           "rgb(79,173,0)",
           "rgb(20,232,0)",
           "rgb(28,224,0)",
           "rgb(0,250,5)",
           "rgb(0,204,51)",
           "rgb(0,212,43)",
           "rgb(0,230,25)",
           "rgb(0,245,10)",
           "rgb(0,133,122)",
           "rgb(13,240,0)",
           "rgb(0,196,59)",
           "rgb(0,237,18)",
           "rgb(0,209,46)",
           "rgb(0,173,82)",
           "rgb(0,158,97)",
           "rgb(0,176,79)",
           "rgb(0,135,120)",
           "rgb(0,217,38)",
           "rgb(0,217,38)",
           "rgb(0,250,5)",
           "rgb(0,232,23)",
           "rgb(0,179,76)",
           "rgb(0,143,112)",
           "rgb(0,173,82)",
           "rgb(0,186,69)",
           "rgb(0,232,23)",
           "rgb(0,222,33)",
           "rgb(0,222,33)",
           "rgb(0,222,33)",
           "rgb(0,250,5)",
           "rgb(0,199,56)",
           "rgb(0,219,36)",
           "rgb(0,153,102)",
           "rgb(0,217,38)",
           "rgb(0,240,15)"
          ],
          "line": {
           "color": [
            "rgb(20,232,0)",
            "rgb(0,255,0)",
            "rgb(25,227,0)",
            "rgb(92,161,0)",
            "rgb(69,184,0)",
            "rgb(48,204,0)",
            "rgb(3,250,0)",
            "rgb(54,199,0)",
            "rgb(10,242,0)",
            "rgb(3,250,0)",
            "rgb(33,219,0)",
            "rgb(5,247,0)",
            "rgb(107,145,0)",
            "rgb(66,186,0)",
            "rgb(25,227,0)",
            "rgb(0,222,33)",
            "rgb(36,217,0)",
            "rgb(43,209,0)",
            "rgb(0,252,0)",
            "rgb(33,219,0)",
            "rgb(46,207,0)",
            "rgb(3,250,0)",
            "rgb(3,250,0)",
            "rgb(0,150,105)",
            "rgb(0,245,10)",
            "rgb(0,204,51)",
            "rgb(5,247,0)",
            "rgb(23,230,0)",
            "rgb(31,222,0)",
            "rgb(0,184,71)",
            "rgb(0,255,0)",
            "rgb(64,189,0)",
            "rgb(10,242,0)",
            "rgb(5,247,0)",
            "rgb(0,179,76)",
            "rgb(0,250,5)",
            "rgb(0,224,31)",
            "rgb(3,250,0)",
            "rgb(25,227,0)",
            "rgb(41,212,0)",
            "rgb(56,196,0)",
            "rgb(8,245,0)",
            "rgb(0,222,33)",
            "rgb(0,247,8)",
            "rgb(0,209,46)",
            "rgb(74,179,0)",
            "rgb(115,138,0)",
            "rgb(0,224,31)",
            "rgb(0,214,41)",
            "rgb(0,156,99)",
            "rgb(0,224,31)",
            "rgb(64,189,0)",
            "rgb(3,250,0)",
            "rgb(59,194,0)",
            "rgb(61,191,0)",
            "rgb(66,186,0)",
            "rgb(0,168,87)",
            "rgb(0,186,69)",
            "rgb(0,173,82)",
            "rgb(66,186,0)",
            "rgb(0,255,0)",
            "rgb(0,240,15)",
            "rgb(0,232,23)",
            "rgb(0,237,18)",
            "rgb(0,186,69)",
            "rgb(79,173,0)",
            "rgb(20,232,0)",
            "rgb(28,224,0)",
            "rgb(0,250,5)",
            "rgb(0,204,51)",
            "rgb(0,212,43)",
            "rgb(0,230,25)",
            "rgb(0,245,10)",
            "rgb(0,133,122)",
            "rgb(13,240,0)",
            "rgb(0,196,59)",
            "rgb(0,237,18)",
            "rgb(0,209,46)",
            "rgb(0,173,82)",
            "rgb(0,158,97)",
            "rgb(0,176,79)",
            "rgb(0,135,120)",
            "rgb(0,217,38)",
            "rgb(0,217,38)",
            "rgb(0,250,5)",
            "rgb(0,232,23)",
            "rgb(0,179,76)",
            "rgb(0,143,112)",
            "rgb(0,173,82)",
            "rgb(0,186,69)",
            "rgb(0,232,23)",
            "rgb(0,222,33)",
            "rgb(0,222,33)",
            "rgb(0,222,33)",
            "rgb(0,250,5)",
            "rgb(0,199,56)",
            "rgb(0,219,36)",
            "rgb(0,153,102)",
            "rgb(0,217,38)",
            "rgb(0,240,15)"
           ]
          },
          "size": [
           2.6999999999999997,
           2.6999999999999997,
           3.3054422120521783,
           10.898738453358124,
           8.344857193555642,
           5.861521574808088,
           2.6999999999999997,
           6.4973323272080705,
           2.6999999999999997,
           2.6999999999999997,
           4.131969045134629,
           2.6999999999999997,
           12.821504097917945,
           8.069384111097584,
           3.2340800828997778,
           3.9698860798289957,
           4.528689258008286,
           5.433373770867875,
           2.6999999999999997,
           4.176953665828945,
           5.639680401716861,
           2.6999999999999997,
           2.6999999999999997,
           12.22472795579571,
           2.6999999999999997,
           5.967073582388892,
           2.6999999999999997,
           2.94496271622101,
           3.7357150419606096,
           8.225920418762437,
           2.6999999999999997,
           7.677240964148382,
           2.6999999999999997,
           2.6999999999999997,
           8.864115440174391,
           2.6999999999999997,
           3.5977181642130187,
           2.6999999999999997,
           3.3411584809355452,
           4.95871202437069,
           6.7943223924377305,
           2.6999999999999997,
           3.998106976082467,
           2.6999999999999997,
           5.284654360629883,
           8.82060029460466,
           13.585022469500633,
           3.67687221489343,
           4.758983556984892,
           11.555803090158763,
           3.62125659825551,
           7.7171747984806665,
           2.6999999999999997,
           7.116412346794816,
           7.5028186679723134,
           8.092088995805495,
           10.009888659655982,
           8.040447082082853,
           9.644365692849986,
           8.136784035382405,
           2.6999999999999997,
           2.6999999999999997,
           2.6999999999999997,
           2.6999999999999997,
           7.9280754276276895,
           9.359813405354364,
           2.6999999999999997,
           3.648264926209045,
           2.6999999999999997,
           5.943200148820286,
           5.098630036746959,
           2.8283795790138324,
           2.6999999999999997,
           14.289171408126638,
           2.6999999999999997,
           6.717602822602994,
           2.6999999999999997,
           5.490076933502701,
           9.38045741574466,
           11.18092053689981,
           9.141553897873141,
           13.874384242116419,
           4.57636958003345,
           4.325930964493292,
           2.6999999999999997,
           2.7018773196564454,
           8.986823572598434,
           13.105887723354225,
           9.597497243717168,
           8.163169315994386,
           2.7610839753298615,
           3.86793057354548,
           3.7977445806396743,
           3.796257644920922,
           2.6999999999999997,
           6.501770332669744,
           4.215461180798288,
           11.823152332822302,
           4.560375861299825,
           2.6999999999999997
          ]
         },
         "mode": "markers",
         "name": "$\\vert\\rho\\vert\\in[0.00,0.50]$",
         "text": [
          "0.0863",
          "0.0014",
          "0.1102",
          "0.3633",
          "0.2782",
          "0.1954",
          "0.0217",
          "0.2166",
          "0.0469",
          "0.0201",
          "0.1377",
          "0.0281",
          "0.4274",
          "0.2690",
          "0.1078",
          "-0.1323",
          "0.1510",
          "0.1811",
          "0.0084",
          "0.1392",
          "0.1880",
          "0.0241",
          "0.0229",
          "-0.4075",
          "-0.0428",
          "-0.1989",
          "0.0324",
          "0.0982",
          "0.1245",
          "-0.2742",
          "0.0013",
          "0.2559",
          "0.0452",
          "0.0273",
          "-0.2955",
          "-0.0227",
          "-0.1199",
          "0.0200",
          "0.1114",
          "0.1653",
          "0.2265",
          "0.0439",
          "-0.1333",
          "-0.0312",
          "-0.1762",
          "0.2940",
          "0.4528",
          "-0.1226",
          "-0.1586",
          "-0.3852",
          "-0.1207",
          "0.2572",
          "0.0226",
          "0.2372",
          "0.2501",
          "0.2697",
          "-0.3337",
          "-0.2680",
          "-0.3215",
          "0.2712",
          "0.0023",
          "-0.0635",
          "-0.0860",
          "-0.0683",
          "-0.2643",
          "0.3120",
          "0.0889",
          "0.1216",
          "-0.0180",
          "-0.1981",
          "-0.1700",
          "-0.0943",
          "-0.0349",
          "-0.4763",
          "0.0604",
          "-0.2239",
          "-0.0711",
          "-0.1830",
          "-0.3127",
          "-0.3727",
          "-0.3047",
          "-0.4625",
          "-0.1525",
          "-0.1442",
          "-0.0173",
          "-0.0901",
          "-0.2996",
          "-0.4369",
          "-0.3199",
          "-0.2721",
          "-0.0920",
          "-0.1289",
          "-0.1266",
          "-0.1265",
          "-0.0239",
          "-0.2167",
          "-0.1405",
          "-0.3941",
          "-0.1520",
          "-0.0578"
         ],
         "type": "scatter",
         "x": [
          0,
          0,
          0,
          0,
          0,
          0,
          0,
          0,
          1,
          1,
          1,
          1,
          1,
          1,
          1,
          2,
          2,
          2,
          2,
          2,
          2,
          2,
          2,
          3,
          3,
          3,
          3,
          3,
          3,
          4,
          4,
          4,
          4,
          4,
          5,
          5,
          5,
          5,
          5,
          5,
          5,
          5,
          6,
          6,
          6,
          6,
          6,
          7,
          7,
          7,
          7,
          7,
          7,
          7,
          7,
          7,
          8,
          8,
          8,
          8,
          8,
          9,
          9,
          9,
          9,
          9,
          9,
          9,
          10,
          10,
          10,
          10,
          10,
          10,
          10,
          11,
          11,
          11,
          11,
          11,
          11,
          12,
          12,
          12,
          12,
          12,
          13,
          13,
          13,
          13,
          13,
          14,
          14,
          14,
          14,
          14,
          14,
          14,
          14,
          14
         ],
         "y": [
          1,
          4,
          5,
          7,
          8,
          11,
          12,
          13,
          2,
          4,
          6,
          8,
          11,
          13,
          14,
          0,
          6,
          7,
          8,
          10,
          12,
          13,
          14,
          0,
          1,
          2,
          4,
          12,
          14,
          2,
          5,
          8,
          11,
          13,
          1,
          2,
          3,
          6,
          9,
          10,
          11,
          13,
          0,
          3,
          4,
          9,
          14,
          1,
          4,
          5,
          6,
          8,
          9,
          10,
          12,
          13,
          3,
          5,
          6,
          11,
          12,
          0,
          1,
          3,
          8,
          10,
          12,
          14,
          0,
          1,
          3,
          4,
          6,
          8,
          12,
          2,
          3,
          6,
          7,
          9,
          10,
          1,
          4,
          5,
          6,
          11,
          3,
          6,
          9,
          10,
          12,
          0,
          4,
          5,
          7,
          8,
          10,
          11,
          12,
          13
         ]
        },
        {
         "hoverinfo": "x+y+text",
         "marker": {
          "color": [
           "rgb(163,89,0)",
           "rgb(0,125,130)",
           "rgb(135,117,0)",
           "rgb(0,120,135)",
           "rgb(130,122,0)"
          ],
          "line": {
           "color": [
            "rgb(163,89,0)",
            "rgb(0,125,130)",
            "rgb(135,117,0)",
            "rgb(0,120,135)",
            "rgb(130,122,0)"
           ]
          },
          "size": [
           19.16739088551591,
           15.203473669598516,
           16.042669132768395,
           15.724637849693677,
           15.51283557491759
          ]
         },
         "mode": "markers",
         "name": "$\\vert\\rho\\vert\\in(0.50,0.75]$",
         "text": [
          "0.6389",
          "-0.5068",
          "0.5348",
          "-0.5242",
          "0.5171"
         ],
         "type": "scatter",
         "x": [
          2,
          7,
          8,
          9,
          11
         ],
         "y": [
          9,
          3,
          13,
          4,
          13
         ]
        },
        {
         "hoverinfo": "x+y+text",
         "marker": {
          "color": [],
          "line": {
           "color": []
          },
          "size": []
         },
         "mode": "markers",
         "name": "$\\vert\\rho\\vert\\in(0.75,0.90]$",
         "text": [],
         "type": "scatter",
         "x": [],
         "y": []
        },
        {
         "hoverinfo": "x+y+text",
         "marker": {
          "color": [],
          "line": {
           "color": []
          },
          "size": []
         },
         "mode": "markers",
         "name": "$\\vert\\rho\\vert\\in(0.90,1.00]$",
         "text": [],
         "type": "scatter",
         "x": [],
         "y": []
        }
       ],
       "layout": {
        "height": 800,
        "legend": {
         "orientation": "h",
         "x": 0,
         "y": 1.05
        },
        "template": {
         "data": {
          "bar": [
           {
            "error_x": {
             "color": "#2a3f5f"
            },
            "error_y": {
             "color": "#2a3f5f"
            },
            "marker": {
             "line": {
              "color": "#E5ECF6",
              "width": 0.5
             }
            },
            "type": "bar"
           }
          ],
          "barpolar": [
           {
            "marker": {
             "line": {
              "color": "#E5ECF6",
              "width": 0.5
             }
            },
            "type": "barpolar"
           }
          ],
          "carpet": [
           {
            "aaxis": {
             "endlinecolor": "#2a3f5f",
             "gridcolor": "white",
             "linecolor": "white",
             "minorgridcolor": "white",
             "startlinecolor": "#2a3f5f"
            },
            "baxis": {
             "endlinecolor": "#2a3f5f",
             "gridcolor": "white",
             "linecolor": "white",
             "minorgridcolor": "white",
             "startlinecolor": "#2a3f5f"
            },
            "type": "carpet"
           }
          ],
          "choropleth": [
           {
            "colorbar": {
             "outlinewidth": 0,
             "ticks": ""
            },
            "type": "choropleth"
           }
          ],
          "contour": [
           {
            "colorbar": {
             "outlinewidth": 0,
             "ticks": ""
            },
            "colorscale": [
             [
              0,
              "#0d0887"
             ],
             [
              0.1111111111111111,
              "#46039f"
             ],
             [
              0.2222222222222222,
              "#7201a8"
             ],
             [
              0.3333333333333333,
              "#9c179e"
             ],
             [
              0.4444444444444444,
              "#bd3786"
             ],
             [
              0.5555555555555556,
              "#d8576b"
             ],
             [
              0.6666666666666666,
              "#ed7953"
             ],
             [
              0.7777777777777778,
              "#fb9f3a"
             ],
             [
              0.8888888888888888,
              "#fdca26"
             ],
             [
              1,
              "#f0f921"
             ]
            ],
            "type": "contour"
           }
          ],
          "contourcarpet": [
           {
            "colorbar": {
             "outlinewidth": 0,
             "ticks": ""
            },
            "type": "contourcarpet"
           }
          ],
          "heatmap": [
           {
            "colorbar": {
             "outlinewidth": 0,
             "ticks": ""
            },
            "colorscale": [
             [
              0,
              "#0d0887"
             ],
             [
              0.1111111111111111,
              "#46039f"
             ],
             [
              0.2222222222222222,
              "#7201a8"
             ],
             [
              0.3333333333333333,
              "#9c179e"
             ],
             [
              0.4444444444444444,
              "#bd3786"
             ],
             [
              0.5555555555555556,
              "#d8576b"
             ],
             [
              0.6666666666666666,
              "#ed7953"
             ],
             [
              0.7777777777777778,
              "#fb9f3a"
             ],
             [
              0.8888888888888888,
              "#fdca26"
             ],
             [
              1,
              "#f0f921"
             ]
            ],
            "type": "heatmap"
           }
          ],
          "heatmapgl": [
           {
            "colorbar": {
             "outlinewidth": 0,
             "ticks": ""
            },
            "colorscale": [
             [
              0,
              "#0d0887"
             ],
             [
              0.1111111111111111,
              "#46039f"
             ],
             [
              0.2222222222222222,
              "#7201a8"
             ],
             [
              0.3333333333333333,
              "#9c179e"
             ],
             [
              0.4444444444444444,
              "#bd3786"
             ],
             [
              0.5555555555555556,
              "#d8576b"
             ],
             [
              0.6666666666666666,
              "#ed7953"
             ],
             [
              0.7777777777777778,
              "#fb9f3a"
             ],
             [
              0.8888888888888888,
              "#fdca26"
             ],
             [
              1,
              "#f0f921"
             ]
            ],
            "type": "heatmapgl"
           }
          ],
          "histogram": [
           {
            "marker": {
             "colorbar": {
              "outlinewidth": 0,
              "ticks": ""
             }
            },
            "type": "histogram"
           }
          ],
          "histogram2d": [
           {
            "colorbar": {
             "outlinewidth": 0,
             "ticks": ""
            },
            "colorscale": [
             [
              0,
              "#0d0887"
             ],
             [
              0.1111111111111111,
              "#46039f"
             ],
             [
              0.2222222222222222,
              "#7201a8"
             ],
             [
              0.3333333333333333,
              "#9c179e"
             ],
             [
              0.4444444444444444,
              "#bd3786"
             ],
             [
              0.5555555555555556,
              "#d8576b"
             ],
             [
              0.6666666666666666,
              "#ed7953"
             ],
             [
              0.7777777777777778,
              "#fb9f3a"
             ],
             [
              0.8888888888888888,
              "#fdca26"
             ],
             [
              1,
              "#f0f921"
             ]
            ],
            "type": "histogram2d"
           }
          ],
          "histogram2dcontour": [
           {
            "colorbar": {
             "outlinewidth": 0,
             "ticks": ""
            },
            "colorscale": [
             [
              0,
              "#0d0887"
             ],
             [
              0.1111111111111111,
              "#46039f"
             ],
             [
              0.2222222222222222,
              "#7201a8"
             ],
             [
              0.3333333333333333,
              "#9c179e"
             ],
             [
              0.4444444444444444,
              "#bd3786"
             ],
             [
              0.5555555555555556,
              "#d8576b"
             ],
             [
              0.6666666666666666,
              "#ed7953"
             ],
             [
              0.7777777777777778,
              "#fb9f3a"
             ],
             [
              0.8888888888888888,
              "#fdca26"
             ],
             [
              1,
              "#f0f921"
             ]
            ],
            "type": "histogram2dcontour"
           }
          ],
          "mesh3d": [
           {
            "colorbar": {
             "outlinewidth": 0,
             "ticks": ""
            },
            "type": "mesh3d"
           }
          ],
          "parcoords": [
           {
            "line": {
             "colorbar": {
              "outlinewidth": 0,
              "ticks": ""
             }
            },
            "type": "parcoords"
           }
          ],
          "scatter": [
           {
            "marker": {
             "colorbar": {
              "outlinewidth": 0,
              "ticks": ""
             }
            },
            "type": "scatter"
           }
          ],
          "scatter3d": [
           {
            "line": {
             "colorbar": {
              "outlinewidth": 0,
              "ticks": ""
             }
            },
            "marker": {
             "colorbar": {
              "outlinewidth": 0,
              "ticks": ""
             }
            },
            "type": "scatter3d"
           }
          ],
          "scattercarpet": [
           {
            "marker": {
             "colorbar": {
              "outlinewidth": 0,
              "ticks": ""
             }
            },
            "type": "scattercarpet"
           }
          ],
          "scattergeo": [
           {
            "marker": {
             "colorbar": {
              "outlinewidth": 0,
              "ticks": ""
             }
            },
            "type": "scattergeo"
           }
          ],
          "scattergl": [
           {
            "marker": {
             "colorbar": {
              "outlinewidth": 0,
              "ticks": ""
             }
            },
            "type": "scattergl"
           }
          ],
          "scattermapbox": [
           {
            "marker": {
             "colorbar": {
              "outlinewidth": 0,
              "ticks": ""
             }
            },
            "type": "scattermapbox"
           }
          ],
          "scatterpolar": [
           {
            "marker": {
             "colorbar": {
              "outlinewidth": 0,
              "ticks": ""
             }
            },
            "type": "scatterpolar"
           }
          ],
          "scatterpolargl": [
           {
            "marker": {
             "colorbar": {
              "outlinewidth": 0,
              "ticks": ""
             }
            },
            "type": "scatterpolargl"
           }
          ],
          "scatterternary": [
           {
            "marker": {
             "colorbar": {
              "outlinewidth": 0,
              "ticks": ""
             }
            },
            "type": "scatterternary"
           }
          ],
          "surface": [
           {
            "colorbar": {
             "outlinewidth": 0,
             "ticks": ""
            },
            "colorscale": [
             [
              0,
              "#0d0887"
             ],
             [
              0.1111111111111111,
              "#46039f"
             ],
             [
              0.2222222222222222,
              "#7201a8"
             ],
             [
              0.3333333333333333,
              "#9c179e"
             ],
             [
              0.4444444444444444,
              "#bd3786"
             ],
             [
              0.5555555555555556,
              "#d8576b"
             ],
             [
              0.6666666666666666,
              "#ed7953"
             ],
             [
              0.7777777777777778,
              "#fb9f3a"
             ],
             [
              0.8888888888888888,
              "#fdca26"
             ],
             [
              1,
              "#f0f921"
             ]
            ],
            "type": "surface"
           }
          ],
          "table": [
           {
            "cells": {
             "fill": {
              "color": "#EBF0F8"
             },
             "line": {
              "color": "white"
             }
            },
            "header": {
             "fill": {
              "color": "#C8D4E3"
             },
             "line": {
              "color": "white"
             }
            },
            "type": "table"
           }
          ]
         },
         "layout": {
          "annotationdefaults": {
           "arrowcolor": "#2a3f5f",
           "arrowhead": 0,
           "arrowwidth": 1
          },
          "colorscale": {
           "diverging": [
            [
             0,
             "#8e0152"
            ],
            [
             0.1,
             "#c51b7d"
            ],
            [
             0.2,
             "#de77ae"
            ],
            [
             0.3,
             "#f1b6da"
            ],
            [
             0.4,
             "#fde0ef"
            ],
            [
             0.5,
             "#f7f7f7"
            ],
            [
             0.6,
             "#e6f5d0"
            ],
            [
             0.7,
             "#b8e186"
            ],
            [
             0.8,
             "#7fbc41"
            ],
            [
             0.9,
             "#4d9221"
            ],
            [
             1,
             "#276419"
            ]
           ],
           "sequential": [
            [
             0,
             "#0d0887"
            ],
            [
             0.1111111111111111,
             "#46039f"
            ],
            [
             0.2222222222222222,
             "#7201a8"
            ],
            [
             0.3333333333333333,
             "#9c179e"
            ],
            [
             0.4444444444444444,
             "#bd3786"
            ],
            [
             0.5555555555555556,
             "#d8576b"
            ],
            [
             0.6666666666666666,
             "#ed7953"
            ],
            [
             0.7777777777777778,
             "#fb9f3a"
            ],
            [
             0.8888888888888888,
             "#fdca26"
            ],
            [
             1,
             "#f0f921"
            ]
           ],
           "sequentialminus": [
            [
             0,
             "#0d0887"
            ],
            [
             0.1111111111111111,
             "#46039f"
            ],
            [
             0.2222222222222222,
             "#7201a8"
            ],
            [
             0.3333333333333333,
             "#9c179e"
            ],
            [
             0.4444444444444444,
             "#bd3786"
            ],
            [
             0.5555555555555556,
             "#d8576b"
            ],
            [
             0.6666666666666666,
             "#ed7953"
            ],
            [
             0.7777777777777778,
             "#fb9f3a"
            ],
            [
             0.8888888888888888,
             "#fdca26"
            ],
            [
             1,
             "#f0f921"
            ]
           ]
          },
          "colorway": [
           "#636efa",
           "#EF553B",
           "#00cc96",
           "#ab63fa",
           "#FFA15A",
           "#19d3f3",
           "#FF6692",
           "#B6E880",
           "#FF97FF",
           "#FECB52"
          ],
          "font": {
           "color": "#2a3f5f"
          },
          "geo": {
           "bgcolor": "white",
           "lakecolor": "white",
           "landcolor": "#E5ECF6",
           "showlakes": true,
           "showland": true,
           "subunitcolor": "white"
          },
          "hoverlabel": {
           "align": "left"
          },
          "hovermode": "closest",
          "mapbox": {
           "style": "light"
          },
          "paper_bgcolor": "white",
          "plot_bgcolor": "#E5ECF6",
          "polar": {
           "angularaxis": {
            "gridcolor": "white",
            "linecolor": "white",
            "ticks": ""
           },
           "bgcolor": "#E5ECF6",
           "radialaxis": {
            "gridcolor": "white",
            "linecolor": "white",
            "ticks": ""
           }
          },
          "scene": {
           "xaxis": {
            "backgroundcolor": "#E5ECF6",
            "gridcolor": "white",
            "gridwidth": 2,
            "linecolor": "white",
            "showbackground": true,
            "ticks": "",
            "zerolinecolor": "white"
           },
           "yaxis": {
            "backgroundcolor": "#E5ECF6",
            "gridcolor": "white",
            "gridwidth": 2,
            "linecolor": "white",
            "showbackground": true,
            "ticks": "",
            "zerolinecolor": "white"
           },
           "zaxis": {
            "backgroundcolor": "#E5ECF6",
            "gridcolor": "white",
            "gridwidth": 2,
            "linecolor": "white",
            "showbackground": true,
            "ticks": "",
            "zerolinecolor": "white"
           }
          },
          "shapedefaults": {
           "line": {
            "color": "#2a3f5f"
           }
          },
          "ternary": {
           "aaxis": {
            "gridcolor": "white",
            "linecolor": "white",
            "ticks": ""
           },
           "baxis": {
            "gridcolor": "white",
            "linecolor": "white",
            "ticks": ""
           },
           "bgcolor": "#E5ECF6",
           "caxis": {
            "gridcolor": "white",
            "linecolor": "white",
            "ticks": ""
           }
          },
          "title": {
           "x": 0.05
          },
          "xaxis": {
           "automargin": true,
           "gridcolor": "white",
           "linecolor": "white",
           "ticks": "",
           "zerolinecolor": "white",
           "zerolinewidth": 2
          },
          "yaxis": {
           "automargin": true,
           "gridcolor": "white",
           "linecolor": "white",
           "ticks": "",
           "zerolinecolor": "white",
           "zerolinewidth": 2
          }
         }
        },
        "title": {
         "text": "Feature Correlations Plot"
        },
        "width": 800,
        "xaxis": {
         "linecolor": "black",
         "linewidth": 0.5,
         "mirror": true,
         "range": [
          -1,
          15
         ],
         "showgrid": false,
         "tickangle": 90,
         "ticklen": 1,
         "ticktext": [
          "Feature 0",
          "Feature 1",
          "Feature 2",
          "Feature 3",
          "Feature 4",
          "Feature 5",
          "Feature 6",
          "Feature 7",
          "Feature 8",
          "Feature 9",
          "Feature 10",
          "Feature 11",
          "Feature 12",
          "Feature 13",
          "Feature 14"
         ],
         "tickvals": [
          0,
          1,
          2,
          3,
          4,
          5,
          6,
          7,
          8,
          9,
          10,
          11,
          12,
          13,
          14
         ],
         "type": "linear",
         "zeroline": false
        },
        "yaxis": {
         "linecolor": "black",
         "linewidth": 0.5,
         "mirror": true,
         "range": [
          -1,
          15
         ],
         "showgrid": false,
         "ticklen": 1,
         "ticktext": [
          "Feature 0",
          "Feature 1",
          "Feature 2",
          "Feature 3",
          "Feature 4",
          "Feature 5",
          "Feature 6",
          "Feature 7",
          "Feature 8",
          "Feature 9",
          "Feature 10",
          "Feature 11",
          "Feature 12",
          "Feature 13",
          "Feature 14"
         ],
         "tickvals": [
          0,
          1,
          2,
          3,
          4,
          5,
          6,
          7,
          8,
          9,
          10,
          11,
          12,
          13,
          14
         ],
         "type": "linear",
         "zeroline": false
        }
       }
      },
      "image/png": "[encoded data removed]",
      "text/html": [
       "<div>\n",
       "        \n",
       "        \n",
       "            <div id=\"04ba9d5a-c3a3-4468-9fa3-ff19deea4a6b\" class=\"plotly-graph-div\" style=\"height:800px; width:800px;\"></div>\n",
       "            <script type=\"text/javascript\">\n",
       "                require([\"plotly\"], function(Plotly) {\n",
       "                    window.PLOTLYENV=window.PLOTLYENV || {};\n",
       "                    \n",
       "                if (document.getElementById(\"04ba9d5a-c3a3-4468-9fa3-ff19deea4a6b\")) {\n",
       "                    Plotly.newPlot(\n",
       "                        '04ba9d5a-c3a3-4468-9fa3-ff19deea4a6b',\n",
       "                        [{\"hoverinfo\": \"skip\", \"line\": {\"color\": \"black\"}, \"mode\": \"lines\", \"showlegend\": false, \"type\": \"scatter\", \"x\": [0, 1, 2, 3, 4, 5, 6, 7, 8, 9, 10, 11, 12, 13, 14], \"y\": [0, 1, 2, 3, 4, 5, 6, 7, 8, 9, 10, 11, 12, 13, 14]}, {\"hoverinfo\": \"x+y+text\", \"marker\": {\"color\": [\"rgb(20,232,0)\", \"rgb(0,255,0)\", \"rgb(25,227,0)\", \"rgb(92,161,0)\", \"rgb(69,184,0)\", \"rgb(48,204,0)\", \"rgb(3,250,0)\", \"rgb(54,199,0)\", \"rgb(10,242,0)\", \"rgb(3,250,0)\", \"rgb(33,219,0)\", \"rgb(5,247,0)\", \"rgb(107,145,0)\", \"rgb(66,186,0)\", \"rgb(25,227,0)\", \"rgb(0,222,33)\", \"rgb(36,217,0)\", \"rgb(43,209,0)\", \"rgb(0,252,0)\", \"rgb(33,219,0)\", \"rgb(46,207,0)\", \"rgb(3,250,0)\", \"rgb(3,250,0)\", \"rgb(0,150,105)\", \"rgb(0,245,10)\", \"rgb(0,204,51)\", \"rgb(5,247,0)\", \"rgb(23,230,0)\", \"rgb(31,222,0)\", \"rgb(0,184,71)\", \"rgb(0,255,0)\", \"rgb(64,189,0)\", \"rgb(10,242,0)\", \"rgb(5,247,0)\", \"rgb(0,179,76)\", \"rgb(0,250,5)\", \"rgb(0,224,31)\", \"rgb(3,250,0)\", \"rgb(25,227,0)\", \"rgb(41,212,0)\", \"rgb(56,196,0)\", \"rgb(8,245,0)\", \"rgb(0,222,33)\", \"rgb(0,247,8)\", \"rgb(0,209,46)\", \"rgb(74,179,0)\", \"rgb(115,138,0)\", \"rgb(0,224,31)\", \"rgb(0,214,41)\", \"rgb(0,156,99)\", \"rgb(0,224,31)\", \"rgb(64,189,0)\", \"rgb(3,250,0)\", \"rgb(59,194,0)\", \"rgb(61,191,0)\", \"rgb(66,186,0)\", \"rgb(0,168,87)\", \"rgb(0,186,69)\", \"rgb(0,173,82)\", \"rgb(66,186,0)\", \"rgb(0,255,0)\", \"rgb(0,240,15)\", \"rgb(0,232,23)\", \"rgb(0,237,18)\", \"rgb(0,186,69)\", \"rgb(79,173,0)\", \"rgb(20,232,0)\", \"rgb(28,224,0)\", \"rgb(0,250,5)\", \"rgb(0,204,51)\", \"rgb(0,212,43)\", \"rgb(0,230,25)\", \"rgb(0,245,10)\", \"rgb(0,133,122)\", \"rgb(13,240,0)\", \"rgb(0,196,59)\", \"rgb(0,237,18)\", \"rgb(0,209,46)\", \"rgb(0,173,82)\", \"rgb(0,158,97)\", \"rgb(0,176,79)\", \"rgb(0,135,120)\", \"rgb(0,217,38)\", \"rgb(0,217,38)\", \"rgb(0,250,5)\", \"rgb(0,232,23)\", \"rgb(0,179,76)\", \"rgb(0,143,112)\", \"rgb(0,173,82)\", \"rgb(0,186,69)\", \"rgb(0,232,23)\", \"rgb(0,222,33)\", \"rgb(0,222,33)\", \"rgb(0,222,33)\", \"rgb(0,250,5)\", \"rgb(0,199,56)\", \"rgb(0,219,36)\", \"rgb(0,153,102)\", \"rgb(0,217,38)\", \"rgb(0,240,15)\"], \"line\": {\"color\": [\"rgb(20,232,0)\", \"rgb(0,255,0)\", \"rgb(25,227,0)\", \"rgb(92,161,0)\", \"rgb(69,184,0)\", \"rgb(48,204,0)\", \"rgb(3,250,0)\", \"rgb(54,199,0)\", \"rgb(10,242,0)\", \"rgb(3,250,0)\", \"rgb(33,219,0)\", \"rgb(5,247,0)\", \"rgb(107,145,0)\", \"rgb(66,186,0)\", \"rgb(25,227,0)\", \"rgb(0,222,33)\", \"rgb(36,217,0)\", \"rgb(43,209,0)\", \"rgb(0,252,0)\", \"rgb(33,219,0)\", \"rgb(46,207,0)\", \"rgb(3,250,0)\", \"rgb(3,250,0)\", \"rgb(0,150,105)\", \"rgb(0,245,10)\", \"rgb(0,204,51)\", \"rgb(5,247,0)\", \"rgb(23,230,0)\", \"rgb(31,222,0)\", \"rgb(0,184,71)\", \"rgb(0,255,0)\", \"rgb(64,189,0)\", \"rgb(10,242,0)\", \"rgb(5,247,0)\", \"rgb(0,179,76)\", \"rgb(0,250,5)\", \"rgb(0,224,31)\", \"rgb(3,250,0)\", \"rgb(25,227,0)\", \"rgb(41,212,0)\", \"rgb(56,196,0)\", \"rgb(8,245,0)\", \"rgb(0,222,33)\", \"rgb(0,247,8)\", \"rgb(0,209,46)\", \"rgb(74,179,0)\", \"rgb(115,138,0)\", \"rgb(0,224,31)\", \"rgb(0,214,41)\", \"rgb(0,156,99)\", \"rgb(0,224,31)\", \"rgb(64,189,0)\", \"rgb(3,250,0)\", \"rgb(59,194,0)\", \"rgb(61,191,0)\", \"rgb(66,186,0)\", \"rgb(0,168,87)\", \"rgb(0,186,69)\", \"rgb(0,173,82)\", \"rgb(66,186,0)\", \"rgb(0,255,0)\", \"rgb(0,240,15)\", \"rgb(0,232,23)\", \"rgb(0,237,18)\", \"rgb(0,186,69)\", \"rgb(79,173,0)\", \"rgb(20,232,0)\", \"rgb(28,224,0)\", \"rgb(0,250,5)\", \"rgb(0,204,51)\", \"rgb(0,212,43)\", \"rgb(0,230,25)\", \"rgb(0,245,10)\", \"rgb(0,133,122)\", \"rgb(13,240,0)\", \"rgb(0,196,59)\", \"rgb(0,237,18)\", \"rgb(0,209,46)\", \"rgb(0,173,82)\", \"rgb(0,158,97)\", \"rgb(0,176,79)\", \"rgb(0,135,120)\", \"rgb(0,217,38)\", \"rgb(0,217,38)\", \"rgb(0,250,5)\", \"rgb(0,232,23)\", \"rgb(0,179,76)\", \"rgb(0,143,112)\", \"rgb(0,173,82)\", \"rgb(0,186,69)\", \"rgb(0,232,23)\", \"rgb(0,222,33)\", \"rgb(0,222,33)\", \"rgb(0,222,33)\", \"rgb(0,250,5)\", \"rgb(0,199,56)\", \"rgb(0,219,36)\", \"rgb(0,153,102)\", \"rgb(0,217,38)\", \"rgb(0,240,15)\"]}, \"size\": [2.6999999999999997, 2.6999999999999997, 3.3054422120521783, 10.898738453358124, 8.344857193555642, 5.861521574808088, 2.6999999999999997, 6.4973323272080705, 2.6999999999999997, 2.6999999999999997, 4.131969045134629, 2.6999999999999997, 12.821504097917945, 8.069384111097584, 3.2340800828997778, 3.9698860798289957, 4.528689258008286, 5.433373770867875, 2.6999999999999997, 4.176953665828945, 5.639680401716861, 2.6999999999999997, 2.6999999999999997, 12.22472795579571, 2.6999999999999997, 5.967073582388892, 2.6999999999999997, 2.94496271622101, 3.7357150419606096, 8.225920418762437, 2.6999999999999997, 7.677240964148382, 2.6999999999999997, 2.6999999999999997, 8.864115440174391, 2.6999999999999997, 3.5977181642130187, 2.6999999999999997, 3.3411584809355452, 4.95871202437069, 6.7943223924377305, 2.6999999999999997, 3.998106976082467, 2.6999999999999997, 5.284654360629883, 8.82060029460466, 13.585022469500633, 3.67687221489343, 4.758983556984892, 11.555803090158763, 3.62125659825551, 7.7171747984806665, 2.6999999999999997, 7.116412346794816, 7.5028186679723134, 8.092088995805495, 10.009888659655982, 8.040447082082853, 9.644365692849986, 8.136784035382405, 2.6999999999999997, 2.6999999999999997, 2.6999999999999997, 2.6999999999999997, 7.9280754276276895, 9.359813405354364, 2.6999999999999997, 3.648264926209045, 2.6999999999999997, 5.943200148820286, 5.098630036746959, 2.8283795790138324, 2.6999999999999997, 14.289171408126638, 2.6999999999999997, 6.717602822602994, 2.6999999999999997, 5.490076933502701, 9.38045741574466, 11.18092053689981, 9.141553897873141, 13.874384242116419, 4.57636958003345, 4.325930964493292, 2.6999999999999997, 2.7018773196564454, 8.986823572598434, 13.105887723354225, 9.597497243717168, 8.163169315994386, 2.7610839753298615, 3.86793057354548, 3.7977445806396743, 3.796257644920922, 2.6999999999999997, 6.501770332669744, 4.215461180798288, 11.823152332822302, 4.560375861299825, 2.6999999999999997]}, \"mode\": \"markers\", \"name\": \"$\\\\vert\\\\rho\\\\vert\\\\in[0.00,0.50]$\", \"text\": [\"0.0863\", \"0.0014\", \"0.1102\", \"0.3633\", \"0.2782\", \"0.1954\", \"0.0217\", \"0.2166\", \"0.0469\", \"0.0201\", \"0.1377\", \"0.0281\", \"0.4274\", \"0.2690\", \"0.1078\", \"-0.1323\", \"0.1510\", \"0.1811\", \"0.0084\", \"0.1392\", \"0.1880\", \"0.0241\", \"0.0229\", \"-0.4075\", \"-0.0428\", \"-0.1989\", \"0.0324\", \"0.0982\", \"0.1245\", \"-0.2742\", \"0.0013\", \"0.2559\", \"0.0452\", \"0.0273\", \"-0.2955\", \"-0.0227\", \"-0.1199\", \"0.0200\", \"0.1114\", \"0.1653\", \"0.2265\", \"0.0439\", \"-0.1333\", \"-0.0312\", \"-0.1762\", \"0.2940\", \"0.4528\", \"-0.1226\", \"-0.1586\", \"-0.3852\", \"-0.1207\", \"0.2572\", \"0.0226\", \"0.2372\", \"0.2501\", \"0.2697\", \"-0.3337\", \"-0.2680\", \"-0.3215\", \"0.2712\", \"0.0023\", \"-0.0635\", \"-0.0860\", \"-0.0683\", \"-0.2643\", \"0.3120\", \"0.0889\", \"0.1216\", \"-0.0180\", \"-0.1981\", \"-0.1700\", \"-0.0943\", \"-0.0349\", \"-0.4763\", \"0.0604\", \"-0.2239\", \"-0.0711\", \"-0.1830\", \"-0.3127\", \"-0.3727\", \"-0.3047\", \"-0.4625\", \"-0.1525\", \"-0.1442\", \"-0.0173\", \"-0.0901\", \"-0.2996\", \"-0.4369\", \"-0.3199\", \"-0.2721\", \"-0.0920\", \"-0.1289\", \"-0.1266\", \"-0.1265\", \"-0.0239\", \"-0.2167\", \"-0.1405\", \"-0.3941\", \"-0.1520\", \"-0.0578\"], \"type\": \"scatter\", \"x\": [0, 0, 0, 0, 0, 0, 0, 0, 1, 1, 1, 1, 1, 1, 1, 2, 2, 2, 2, 2, 2, 2, 2, 3, 3, 3, 3, 3, 3, 4, 4, 4, 4, 4, 5, 5, 5, 5, 5, 5, 5, 5, 6, 6, 6, 6, 6, 7, 7, 7, 7, 7, 7, 7, 7, 7, 8, 8, 8, 8, 8, 9, 9, 9, 9, 9, 9, 9, 10, 10, 10, 10, 10, 10, 10, 11, 11, 11, 11, 11, 11, 12, 12, 12, 12, 12, 13, 13, 13, 13, 13, 14, 14, 14, 14, 14, 14, 14, 14, 14], \"y\": [1, 4, 5, 7, 8, 11, 12, 13, 2, 4, 6, 8, 11, 13, 14, 0, 6, 7, 8, 10, 12, 13, 14, 0, 1, 2, 4, 12, 14, 2, 5, 8, 11, 13, 1, 2, 3, 6, 9, 10, 11, 13, 0, 3, 4, 9, 14, 1, 4, 5, 6, 8, 9, 10, 12, 13, 3, 5, 6, 11, 12, 0, 1, 3, 8, 10, 12, 14, 0, 1, 3, 4, 6, 8, 12, 2, 3, 6, 7, 9, 10, 1, 4, 5, 6, 11, 3, 6, 9, 10, 12, 0, 4, 5, 7, 8, 10, 11, 12, 13]}, {\"hoverinfo\": \"x+y+text\", \"marker\": {\"color\": [\"rgb(163,89,0)\", \"rgb(0,125,130)\", \"rgb(135,117,0)\", \"rgb(0,120,135)\", \"rgb(130,122,0)\"], \"line\": {\"color\": [\"rgb(163,89,0)\", \"rgb(0,125,130)\", \"rgb(135,117,0)\", \"rgb(0,120,135)\", \"rgb(130,122,0)\"]}, \"size\": [19.16739088551591, 15.203473669598516, 16.042669132768395, 15.724637849693677, 15.51283557491759]}, \"mode\": \"markers\", \"name\": \"$\\\\vert\\\\rho\\\\vert\\\\in(0.50,0.75]$\", \"text\": [\"0.6389\", \"-0.5068\", \"0.5348\", \"-0.5242\", \"0.5171\"], \"type\": \"scatter\", \"x\": [2, 7, 8, 9, 11], \"y\": [9, 3, 13, 4, 13]}, {\"hoverinfo\": \"x+y+text\", \"marker\": {\"color\": [], \"line\": {\"color\": []}, \"size\": []}, \"mode\": \"markers\", \"name\": \"$\\\\vert\\\\rho\\\\vert\\\\in(0.75,0.90]$\", \"text\": [], \"type\": \"scatter\", \"x\": [], \"y\": []}, {\"hoverinfo\": \"x+y+text\", \"marker\": {\"color\": [], \"line\": {\"color\": []}, \"size\": []}, \"mode\": \"markers\", \"name\": \"$\\\\vert\\\\rho\\\\vert\\\\in(0.90,1.00]$\", \"text\": [], \"type\": \"scatter\", \"x\": [], \"y\": []}],\n",
       "                        {\"height\": 800, \"legend\": {\"orientation\": \"h\", \"x\": 0, \"y\": 1.05}, \"template\": {\"data\": {\"bar\": [{\"error_x\": {\"color\": \"#2a3f5f\"}, \"error_y\": {\"color\": \"#2a3f5f\"}, \"marker\": {\"line\": {\"color\": \"#E5ECF6\", \"width\": 0.5}}, \"type\": \"bar\"}], \"barpolar\": [{\"marker\": {\"line\": {\"color\": \"#E5ECF6\", \"width\": 0.5}}, \"type\": \"barpolar\"}], \"carpet\": [{\"aaxis\": {\"endlinecolor\": \"#2a3f5f\", \"gridcolor\": \"white\", \"linecolor\": \"white\", \"minorgridcolor\": \"white\", \"startlinecolor\": \"#2a3f5f\"}, \"baxis\": {\"endlinecolor\": \"#2a3f5f\", \"gridcolor\": \"white\", \"linecolor\": \"white\", \"minorgridcolor\": \"white\", \"startlinecolor\": \"#2a3f5f\"}, \"type\": \"carpet\"}], \"choropleth\": [{\"colorbar\": {\"outlinewidth\": 0, \"ticks\": \"\"}, \"type\": \"choropleth\"}], \"contour\": [{\"colorbar\": {\"outlinewidth\": 0, \"ticks\": \"\"}, \"colorscale\": [[0.0, \"#0d0887\"], [0.1111111111111111, \"#46039f\"], [0.2222222222222222, \"#7201a8\"], [0.3333333333333333, \"#9c179e\"], [0.4444444444444444, \"#bd3786\"], [0.5555555555555556, \"#d8576b\"], [0.6666666666666666, \"#ed7953\"], [0.7777777777777778, \"#fb9f3a\"], [0.8888888888888888, \"#fdca26\"], [1.0, \"#f0f921\"]], \"type\": \"contour\"}], \"contourcarpet\": [{\"colorbar\": {\"outlinewidth\": 0, \"ticks\": \"\"}, \"type\": \"contourcarpet\"}], \"heatmap\": [{\"colorbar\": {\"outlinewidth\": 0, \"ticks\": \"\"}, \"colorscale\": [[0.0, \"#0d0887\"], [0.1111111111111111, \"#46039f\"], [0.2222222222222222, \"#7201a8\"], [0.3333333333333333, \"#9c179e\"], [0.4444444444444444, \"#bd3786\"], [0.5555555555555556, \"#d8576b\"], [0.6666666666666666, \"#ed7953\"], [0.7777777777777778, \"#fb9f3a\"], [0.8888888888888888, \"#fdca26\"], [1.0, \"#f0f921\"]], \"type\": \"heatmap\"}], \"heatmapgl\": [{\"colorbar\": {\"outlinewidth\": 0, \"ticks\": \"\"}, \"colorscale\": [[0.0, \"#0d0887\"], [0.1111111111111111, \"#46039f\"], [0.2222222222222222, \"#7201a8\"], [0.3333333333333333, \"#9c179e\"], [0.4444444444444444, \"#bd3786\"], [0.5555555555555556, \"#d8576b\"], [0.6666666666666666, \"#ed7953\"], [0.7777777777777778, \"#fb9f3a\"], [0.8888888888888888, \"#fdca26\"], [1.0, \"#f0f921\"]], \"type\": \"heatmapgl\"}], \"histogram\": [{\"marker\": {\"colorbar\": {\"outlinewidth\": 0, \"ticks\": \"\"}}, \"type\": \"histogram\"}], \"histogram2d\": [{\"colorbar\": {\"outlinewidth\": 0, \"ticks\": \"\"}, \"colorscale\": [[0.0, \"#0d0887\"], [0.1111111111111111, \"#46039f\"], [0.2222222222222222, \"#7201a8\"], [0.3333333333333333, \"#9c179e\"], [0.4444444444444444, \"#bd3786\"], [0.5555555555555556, \"#d8576b\"], [0.6666666666666666, \"#ed7953\"], [0.7777777777777778, \"#fb9f3a\"], [0.8888888888888888, \"#fdca26\"], [1.0, \"#f0f921\"]], \"type\": \"histogram2d\"}], \"histogram2dcontour\": [{\"colorbar\": {\"outlinewidth\": 0, \"ticks\": \"\"}, \"colorscale\": [[0.0, \"#0d0887\"], [0.1111111111111111, \"#46039f\"], [0.2222222222222222, \"#7201a8\"], [0.3333333333333333, \"#9c179e\"], [0.4444444444444444, \"#bd3786\"], [0.5555555555555556, \"#d8576b\"], [0.6666666666666666, \"#ed7953\"], [0.7777777777777778, \"#fb9f3a\"], [0.8888888888888888, \"#fdca26\"], [1.0, \"#f0f921\"]], \"type\": \"histogram2dcontour\"}], \"mesh3d\": [{\"colorbar\": {\"outlinewidth\": 0, \"ticks\": \"\"}, \"type\": \"mesh3d\"}], \"parcoords\": [{\"line\": {\"colorbar\": {\"outlinewidth\": 0, \"ticks\": \"\"}}, \"type\": \"parcoords\"}], \"scatter\": [{\"marker\": {\"colorbar\": {\"outlinewidth\": 0, \"ticks\": \"\"}}, \"type\": \"scatter\"}], \"scatter3d\": [{\"line\": {\"colorbar\": {\"outlinewidth\": 0, \"ticks\": \"\"}}, \"marker\": {\"colorbar\": {\"outlinewidth\": 0, \"ticks\": \"\"}}, \"type\": \"scatter3d\"}], \"scattercarpet\": [{\"marker\": {\"colorbar\": {\"outlinewidth\": 0, \"ticks\": \"\"}}, \"type\": \"scattercarpet\"}], \"scattergeo\": [{\"marker\": {\"colorbar\": {\"outlinewidth\": 0, \"ticks\": \"\"}}, \"type\": \"scattergeo\"}], \"scattergl\": [{\"marker\": {\"colorbar\": {\"outlinewidth\": 0, \"ticks\": \"\"}}, \"type\": \"scattergl\"}], \"scattermapbox\": [{\"marker\": {\"colorbar\": {\"outlinewidth\": 0, \"ticks\": \"\"}}, \"type\": \"scattermapbox\"}], \"scatterpolar\": [{\"marker\": {\"colorbar\": {\"outlinewidth\": 0, \"ticks\": \"\"}}, \"type\": \"scatterpolar\"}], \"scatterpolargl\": [{\"marker\": {\"colorbar\": {\"outlinewidth\": 0, \"ticks\": \"\"}}, \"type\": \"scatterpolargl\"}], \"scatterternary\": [{\"marker\": {\"colorbar\": {\"outlinewidth\": 0, \"ticks\": \"\"}}, \"type\": \"scatterternary\"}], \"surface\": [{\"colorbar\": {\"outlinewidth\": 0, \"ticks\": \"\"}, \"colorscale\": [[0.0, \"#0d0887\"], [0.1111111111111111, \"#46039f\"], [0.2222222222222222, \"#7201a8\"], [0.3333333333333333, \"#9c179e\"], [0.4444444444444444, \"#bd3786\"], [0.5555555555555556, \"#d8576b\"], [0.6666666666666666, \"#ed7953\"], [0.7777777777777778, \"#fb9f3a\"], [0.8888888888888888, \"#fdca26\"], [1.0, \"#f0f921\"]], \"type\": \"surface\"}], \"table\": [{\"cells\": {\"fill\": {\"color\": \"#EBF0F8\"}, \"line\": {\"color\": \"white\"}}, \"header\": {\"fill\": {\"color\": \"#C8D4E3\"}, \"line\": {\"color\": \"white\"}}, \"type\": \"table\"}]}, \"layout\": {\"annotationdefaults\": {\"arrowcolor\": \"#2a3f5f\", \"arrowhead\": 0, \"arrowwidth\": 1}, \"colorscale\": {\"diverging\": [[0, \"#8e0152\"], [0.1, \"#c51b7d\"], [0.2, \"#de77ae\"], [0.3, \"#f1b6da\"], [0.4, \"#fde0ef\"], [0.5, \"#f7f7f7\"], [0.6, \"#e6f5d0\"], [0.7, \"#b8e186\"], [0.8, \"#7fbc41\"], [0.9, \"#4d9221\"], [1, \"#276419\"]], \"sequential\": [[0.0, \"#0d0887\"], [0.1111111111111111, \"#46039f\"], [0.2222222222222222, \"#7201a8\"], [0.3333333333333333, \"#9c179e\"], [0.4444444444444444, \"#bd3786\"], [0.5555555555555556, \"#d8576b\"], [0.6666666666666666, \"#ed7953\"], [0.7777777777777778, \"#fb9f3a\"], [0.8888888888888888, \"#fdca26\"], [1.0, \"#f0f921\"]], \"sequentialminus\": [[0.0, \"#0d0887\"], [0.1111111111111111, \"#46039f\"], [0.2222222222222222, \"#7201a8\"], [0.3333333333333333, \"#9c179e\"], [0.4444444444444444, \"#bd3786\"], [0.5555555555555556, \"#d8576b\"], [0.6666666666666666, \"#ed7953\"], [0.7777777777777778, \"#fb9f3a\"], [0.8888888888888888, \"#fdca26\"], [1.0, \"#f0f921\"]]}, \"colorway\": [\"#636efa\", \"#EF553B\", \"#00cc96\", \"#ab63fa\", \"#FFA15A\", \"#19d3f3\", \"#FF6692\", \"#B6E880\", \"#FF97FF\", \"#FECB52\"], \"font\": {\"color\": \"#2a3f5f\"}, \"geo\": {\"bgcolor\": \"white\", \"lakecolor\": \"white\", \"landcolor\": \"#E5ECF6\", \"showlakes\": true, \"showland\": true, \"subunitcolor\": \"white\"}, \"hoverlabel\": {\"align\": \"left\"}, \"hovermode\": \"closest\", \"mapbox\": {\"style\": \"light\"}, \"paper_bgcolor\": \"white\", \"plot_bgcolor\": \"#E5ECF6\", \"polar\": {\"angularaxis\": {\"gridcolor\": \"white\", \"linecolor\": \"white\", \"ticks\": \"\"}, \"bgcolor\": \"#E5ECF6\", \"radialaxis\": {\"gridcolor\": \"white\", \"linecolor\": \"white\", \"ticks\": \"\"}}, \"scene\": {\"xaxis\": {\"backgroundcolor\": \"#E5ECF6\", \"gridcolor\": \"white\", \"gridwidth\": 2, \"linecolor\": \"white\", \"showbackground\": true, \"ticks\": \"\", \"zerolinecolor\": \"white\"}, \"yaxis\": {\"backgroundcolor\": \"#E5ECF6\", \"gridcolor\": \"white\", \"gridwidth\": 2, \"linecolor\": \"white\", \"showbackground\": true, \"ticks\": \"\", \"zerolinecolor\": \"white\"}, \"zaxis\": {\"backgroundcolor\": \"#E5ECF6\", \"gridcolor\": \"white\", \"gridwidth\": 2, \"linecolor\": \"white\", \"showbackground\": true, \"ticks\": \"\", \"zerolinecolor\": \"white\"}}, \"shapedefaults\": {\"line\": {\"color\": \"#2a3f5f\"}}, \"ternary\": {\"aaxis\": {\"gridcolor\": \"white\", \"linecolor\": \"white\", \"ticks\": \"\"}, \"baxis\": {\"gridcolor\": \"white\", \"linecolor\": \"white\", \"ticks\": \"\"}, \"bgcolor\": \"#E5ECF6\", \"caxis\": {\"gridcolor\": \"white\", \"linecolor\": \"white\", \"ticks\": \"\"}}, \"title\": {\"x\": 0.05}, \"xaxis\": {\"automargin\": true, \"gridcolor\": \"white\", \"linecolor\": \"white\", \"ticks\": \"\", \"zerolinecolor\": \"white\", \"zerolinewidth\": 2}, \"yaxis\": {\"automargin\": true, \"gridcolor\": \"white\", \"linecolor\": \"white\", \"ticks\": \"\", \"zerolinecolor\": \"white\", \"zerolinewidth\": 2}}}, \"title\": {\"text\": \"Feature Correlations Plot\"}, \"width\": 800, \"xaxis\": {\"linecolor\": \"black\", \"linewidth\": 0.5, \"mirror\": true, \"range\": [-1, 15], \"showgrid\": false, \"tickangle\": 90, \"ticklen\": 1, \"ticktext\": [\"Feature 0\", \"Feature 1\", \"Feature 2\", \"Feature 3\", \"Feature 4\", \"Feature 5\", \"Feature 6\", \"Feature 7\", \"Feature 8\", \"Feature 9\", \"Feature 10\", \"Feature 11\", \"Feature 12\", \"Feature 13\", \"Feature 14\"], \"tickvals\": [0, 1, 2, 3, 4, 5, 6, 7, 8, 9, 10, 11, 12, 13, 14], \"zeroline\": false}, \"yaxis\": {\"linecolor\": \"black\", \"linewidth\": 0.5, \"mirror\": true, \"range\": [-1, 15], \"showgrid\": false, \"ticklen\": 1, \"ticktext\": [\"Feature 0\", \"Feature 1\", \"Feature 2\", \"Feature 3\", \"Feature 4\", \"Feature 5\", \"Feature 6\", \"Feature 7\", \"Feature 8\", \"Feature 9\", \"Feature 10\", \"Feature 11\", \"Feature 12\", \"Feature 13\", \"Feature 14\"], \"tickvals\": [0, 1, 2, 3, 4, 5, 6, 7, 8, 9, 10, 11, 12, 13, 14], \"zeroline\": false}},\n",
       "                        {\"responsive\": true}\n",
       "                    ).then(function(){\n",
       "                            \n",
       "var gd = document.getElementById('04ba9d5a-c3a3-4468-9fa3-ff19deea4a6b');\n",
       "var x = new MutationObserver(function (mutations, observer) {{\n",
       "        var display = window.getComputedStyle(gd).display;\n",
       "        if (!display || display === 'none') {{\n",
       "            console.log([gd, 'removed!']);\n",
       "            Plotly.purge(gd);\n",
       "            observer.disconnect();\n",
       "        }}\n",
       "}});\n",
       "\n",
       "// Listen for the removal of the full notebook cells\n",
       "var notebookContainer = gd.closest('#notebook-container');\n",
       "if (notebookContainer) {{\n",
       "    x.observe(notebookContainer, {childList: true});\n",
       "}}\n",
       "\n",
       "// Listen for the clearing of the current output cell\n",
       "var outputEl = gd.closest('.output');\n",
       "if (outputEl) {{\n",
       "    x.observe(outputEl, {childList: true});\n",
       "}}\n",
       "\n",
       "                        })\n",
       "                };\n",
       "                });\n",
       "            </script>\n",
       "        </div>"
      ]
     },
     "metadata": {},
     "output_type": "display_data"
    }
   ],
   "source": [
    "''' generate random (n,p) data with random correlations & standard deviations'''\n",
    "np.random.seed(12111906)\n",
    "n = 200; p = 15; q = int(p*(p+1)/2-p)\n",
    "# first make a correlation matrix with random correlations\n",
    "vals = np.random.randint(low=-100, high=101, size=q)/100\n",
    "r = np.zeros((p,p),dtype=float)  # create the square matrix\n",
    "r[np.triu_indices(p,1)] = vals   # put correlations on upper triangle\n",
    "r = r + r.T + np.eye(p)\n",
    "# now make a covariance matrix with random standard deviations\n",
    "d = np.diag(np.random.randint(low=1, high=100, size=p)/10)\n",
    "sigma = np.matmul(np.matmul(d,r),d)\n",
    "\n",
    "# simulate data\n",
    "data = pd.DataFrame(data=np.random.multivariate_normal(mean=[0]*p, cov=sigma, size=n), columns=['Feature %d'%i for i in range(p)])\n",
    "corrs = data.corr()\n",
    "display(corrs)\n",
    "\n",
    "# visualize\n",
    "plyoff.iplot(CorrelationsPlot(corrs, trcLims=(0,0.5,0.75,0.9,1.0), tweaks=(30,800,800,1.05)))"
   ]
  },
  {
   "cell_type": "markdown",
   "metadata": {},
   "source": [
    "## Demonstrate the Feature Correlations Plot using a real-world dataset"
   ]
  },
  {
   "cell_type": "code",
   "execution_count": 5,
   "metadata": {},
   "outputs": [
    {
     "data": {
      "text/html": [
       "<div>\n",
       "<style scoped>\n",
       "    .dataframe tbody tr th:only-of-type {\n",
       "        vertical-align: middle;\n",
       "    }\n",
       "\n",
       "    .dataframe tbody tr th {\n",
       "        vertical-align: top;\n",
       "    }\n",
       "\n",
       "    .dataframe thead th {\n",
       "        text-align: right;\n",
       "    }\n",
       "</style>\n",
       "<table border=\"1\" class=\"dataframe\">\n",
       "  <thead>\n",
       "    <tr style=\"text-align: right;\">\n",
       "      <th></th>\n",
       "      <th>Feature 0</th>\n",
       "      <th>Feature 1</th>\n",
       "      <th>Feature 2</th>\n",
       "      <th>Feature 3</th>\n",
       "      <th>Feature 4</th>\n",
       "      <th>Feature 5</th>\n",
       "      <th>Feature 6</th>\n",
       "      <th>Feature 7</th>\n",
       "      <th>Feature 8</th>\n",
       "      <th>Feature 9</th>\n",
       "      <th>...</th>\n",
       "      <th>Feature 35</th>\n",
       "      <th>Feature 36</th>\n",
       "      <th>Feature 37</th>\n",
       "      <th>Feature 38</th>\n",
       "      <th>Feature 39</th>\n",
       "      <th>Feature 40</th>\n",
       "      <th>Feature 41</th>\n",
       "      <th>Feature 42</th>\n",
       "      <th>Feature 43</th>\n",
       "      <th>Feature 44</th>\n",
       "    </tr>\n",
       "  </thead>\n",
       "  <tbody>\n",
       "    <tr>\n",
       "      <th>0</th>\n",
       "      <td>1.567691</td>\n",
       "      <td>0.688604</td>\n",
       "      <td>-0.223465</td>\n",
       "      <td>-0.860063</td>\n",
       "      <td>-0.873414</td>\n",
       "      <td>1.0</td>\n",
       "      <td>0.376509</td>\n",
       "      <td>1.368553</td>\n",
       "      <td>0.668687</td>\n",
       "      <td>1.666667</td>\n",
       "      <td>...</td>\n",
       "      <td>-0.818182</td>\n",
       "      <td>-0.2</td>\n",
       "      <td>-1.467001</td>\n",
       "      <td>-1.0</td>\n",
       "      <td>1.0</td>\n",
       "      <td>0.0</td>\n",
       "      <td>0.0</td>\n",
       "      <td>0.0</td>\n",
       "      <td>0.0</td>\n",
       "      <td>0.0</td>\n",
       "    </tr>\n",
       "    <tr>\n",
       "      <th>1</th>\n",
       "      <td>0.641916</td>\n",
       "      <td>0.212910</td>\n",
       "      <td>-0.223465</td>\n",
       "      <td>-0.847689</td>\n",
       "      <td>-0.873065</td>\n",
       "      <td>0.0</td>\n",
       "      <td>0.131700</td>\n",
       "      <td>0.569071</td>\n",
       "      <td>0.216739</td>\n",
       "      <td>1.666667</td>\n",
       "      <td>...</td>\n",
       "      <td>-0.818182</td>\n",
       "      <td>-0.2</td>\n",
       "      <td>-0.727043</td>\n",
       "      <td>-1.0</td>\n",
       "      <td>1.0</td>\n",
       "      <td>0.0</td>\n",
       "      <td>0.0</td>\n",
       "      <td>0.0</td>\n",
       "      <td>0.0</td>\n",
       "      <td>0.0</td>\n",
       "    </tr>\n",
       "    <tr>\n",
       "      <th>2</th>\n",
       "      <td>-0.143979</td>\n",
       "      <td>-0.128524</td>\n",
       "      <td>-0.223465</td>\n",
       "      <td>-0.844084</td>\n",
       "      <td>-0.872825</td>\n",
       "      <td>0.0</td>\n",
       "      <td>-0.093892</td>\n",
       "      <td>-0.170489</td>\n",
       "      <td>-0.137827</td>\n",
       "      <td>1.666667</td>\n",
       "      <td>...</td>\n",
       "      <td>-0.818182</td>\n",
       "      <td>-0.2</td>\n",
       "      <td>-0.039823</td>\n",
       "      <td>-1.0</td>\n",
       "      <td>1.0</td>\n",
       "      <td>0.0</td>\n",
       "      <td>0.0</td>\n",
       "      <td>0.0</td>\n",
       "      <td>0.0</td>\n",
       "      <td>0.0</td>\n",
       "    </tr>\n",
       "    <tr>\n",
       "      <th>3</th>\n",
       "      <td>-0.523146</td>\n",
       "      <td>-0.289406</td>\n",
       "      <td>-0.223465</td>\n",
       "      <td>-0.818249</td>\n",
       "      <td>-0.870506</td>\n",
       "      <td>0.0</td>\n",
       "      <td>-0.210239</td>\n",
       "      <td>-0.547613</td>\n",
       "      <td>-0.314629</td>\n",
       "      <td>1.666667</td>\n",
       "      <td>...</td>\n",
       "      <td>-0.818182</td>\n",
       "      <td>-0.2</td>\n",
       "      <td>0.314605</td>\n",
       "      <td>-1.0</td>\n",
       "      <td>1.0</td>\n",
       "      <td>0.0</td>\n",
       "      <td>0.0</td>\n",
       "      <td>0.0</td>\n",
       "      <td>0.0</td>\n",
       "      <td>0.0</td>\n",
       "    </tr>\n",
       "    <tr>\n",
       "      <th>4</th>\n",
       "      <td>-0.697899</td>\n",
       "      <td>-0.350004</td>\n",
       "      <td>-0.223465</td>\n",
       "      <td>-0.854992</td>\n",
       "      <td>-0.870724</td>\n",
       "      <td>0.0</td>\n",
       "      <td>-0.257987</td>\n",
       "      <td>-0.723649</td>\n",
       "      <td>-0.382946</td>\n",
       "      <td>1.666667</td>\n",
       "      <td>...</td>\n",
       "      <td>-0.818182</td>\n",
       "      <td>-0.2</td>\n",
       "      <td>0.460060</td>\n",
       "      <td>-1.0</td>\n",
       "      <td>1.0</td>\n",
       "      <td>0.0</td>\n",
       "      <td>0.0</td>\n",
       "      <td>0.0</td>\n",
       "      <td>0.0</td>\n",
       "      <td>0.0</td>\n",
       "    </tr>\n",
       "  </tbody>\n",
       "</table>\n",
       "<p>5 rows × 45 columns</p>\n",
       "</div>"
      ],
      "text/plain": [
       "   Feature 0  Feature 1  Feature 2  Feature 3  Feature 4  Feature 5  \\\n",
       "0   1.567691   0.688604  -0.223465  -0.860063  -0.873414        1.0   \n",
       "1   0.641916   0.212910  -0.223465  -0.847689  -0.873065        0.0   \n",
       "2  -0.143979  -0.128524  -0.223465  -0.844084  -0.872825        0.0   \n",
       "3  -0.523146  -0.289406  -0.223465  -0.818249  -0.870506        0.0   \n",
       "4  -0.697899  -0.350004  -0.223465  -0.854992  -0.870724        0.0   \n",
       "\n",
       "   Feature 6  Feature 7  Feature 8  Feature 9  ...  Feature 35  Feature 36  \\\n",
       "0   0.376509   1.368553   0.668687   1.666667  ...   -0.818182        -0.2   \n",
       "1   0.131700   0.569071   0.216739   1.666667  ...   -0.818182        -0.2   \n",
       "2  -0.093892  -0.170489  -0.137827   1.666667  ...   -0.818182        -0.2   \n",
       "3  -0.210239  -0.547613  -0.314629   1.666667  ...   -0.818182        -0.2   \n",
       "4  -0.257987  -0.723649  -0.382946   1.666667  ...   -0.818182        -0.2   \n",
       "\n",
       "   Feature 37  Feature 38  Feature 39  Feature 40  Feature 41  Feature 42  \\\n",
       "0   -1.467001        -1.0         1.0         0.0         0.0         0.0   \n",
       "1   -0.727043        -1.0         1.0         0.0         0.0         0.0   \n",
       "2   -0.039823        -1.0         1.0         0.0         0.0         0.0   \n",
       "3    0.314605        -1.0         1.0         0.0         0.0         0.0   \n",
       "4    0.460060        -1.0         1.0         0.0         0.0         0.0   \n",
       "\n",
       "   Feature 43  Feature 44  \n",
       "0         0.0         0.0  \n",
       "1         0.0         0.0  \n",
       "2         0.0         0.0  \n",
       "3         0.0         0.0  \n",
       "4         0.0         0.0  \n",
       "\n",
       "[5 rows x 45 columns]"
      ]
     },
     "metadata": {},
     "output_type": "display_data"
    }
   ],
   "source": [
    "# get the data\n",
    "yourBoat = pd.read_csv('data.csv')\n",
    "display(yourBoat.head())"
   ]
  },
  {
   "cell_type": "code",
   "execution_count": 6,
   "metadata": {},
   "outputs": [
    {
     "name": "stdout",
     "output_type": "stream",
     "text": [
      "Correlation Matrix\n"
     ]
    },
    {
     "data": {
      "text/html": [
       "<div>\n",
       "<style scoped>\n",
       "    .dataframe tbody tr th:only-of-type {\n",
       "        vertical-align: middle;\n",
       "    }\n",
       "\n",
       "    .dataframe tbody tr th {\n",
       "        vertical-align: top;\n",
       "    }\n",
       "\n",
       "    .dataframe thead th {\n",
       "        text-align: right;\n",
       "    }\n",
       "</style>\n",
       "<table border=\"1\" class=\"dataframe\">\n",
       "  <thead>\n",
       "    <tr style=\"text-align: right;\">\n",
       "      <th></th>\n",
       "      <th>Feature 0</th>\n",
       "      <th>Feature 1</th>\n",
       "      <th>Feature 2</th>\n",
       "      <th>Feature 3</th>\n",
       "      <th>Feature 4</th>\n",
       "      <th>Feature 5</th>\n",
       "      <th>Feature 6</th>\n",
       "      <th>Feature 7</th>\n",
       "      <th>Feature 8</th>\n",
       "      <th>Feature 9</th>\n",
       "      <th>...</th>\n",
       "      <th>Feature 35</th>\n",
       "      <th>Feature 36</th>\n",
       "      <th>Feature 37</th>\n",
       "      <th>Feature 38</th>\n",
       "      <th>Feature 39</th>\n",
       "      <th>Feature 40</th>\n",
       "      <th>Feature 41</th>\n",
       "      <th>Feature 42</th>\n",
       "      <th>Feature 43</th>\n",
       "      <th>Feature 44</th>\n",
       "    </tr>\n",
       "  </thead>\n",
       "  <tbody>\n",
       "    <tr>\n",
       "      <th>Feature 0</th>\n",
       "      <td>1.000000</td>\n",
       "      <td>0.515418</td>\n",
       "      <td>0.003181</td>\n",
       "      <td>0.003040</td>\n",
       "      <td>-0.044016</td>\n",
       "      <td>0.145920</td>\n",
       "      <td>0.278383</td>\n",
       "      <td>0.893897</td>\n",
       "      <td>0.622778</td>\n",
       "      <td>0.122802</td>\n",
       "      <td>...</td>\n",
       "      <td>0.112764</td>\n",
       "      <td>0.204094</td>\n",
       "      <td>-0.813311</td>\n",
       "      <td>0.092590</td>\n",
       "      <td>-0.014457</td>\n",
       "      <td>0.038953</td>\n",
       "      <td>0.047555</td>\n",
       "      <td>0.013553</td>\n",
       "      <td>0.106115</td>\n",
       "      <td>-0.055969</td>\n",
       "    </tr>\n",
       "    <tr>\n",
       "      <th>Feature 1</th>\n",
       "      <td>0.515418</td>\n",
       "      <td>1.000000</td>\n",
       "      <td>-0.048969</td>\n",
       "      <td>-0.000402</td>\n",
       "      <td>-0.004410</td>\n",
       "      <td>0.025075</td>\n",
       "      <td>-0.003805</td>\n",
       "      <td>0.185153</td>\n",
       "      <td>0.510606</td>\n",
       "      <td>-0.078699</td>\n",
       "      <td>...</td>\n",
       "      <td>0.118603</td>\n",
       "      <td>0.097683</td>\n",
       "      <td>-0.239027</td>\n",
       "      <td>0.114960</td>\n",
       "      <td>0.013539</td>\n",
       "      <td>-0.008364</td>\n",
       "      <td>0.019189</td>\n",
       "      <td>0.077993</td>\n",
       "      <td>-0.013865</td>\n",
       "      <td>-0.022113</td>\n",
       "    </tr>\n",
       "    <tr>\n",
       "      <th>Feature 2</th>\n",
       "      <td>0.003181</td>\n",
       "      <td>-0.048969</td>\n",
       "      <td>1.000000</td>\n",
       "      <td>0.252372</td>\n",
       "      <td>0.292024</td>\n",
       "      <td>0.133567</td>\n",
       "      <td>0.738512</td>\n",
       "      <td>0.004836</td>\n",
       "      <td>-0.142238</td>\n",
       "      <td>0.389801</td>\n",
       "      <td>...</td>\n",
       "      <td>-0.331494</td>\n",
       "      <td>-0.146407</td>\n",
       "      <td>0.001122</td>\n",
       "      <td>-0.311997</td>\n",
       "      <td>-0.150927</td>\n",
       "      <td>0.066383</td>\n",
       "      <td>0.004575</td>\n",
       "      <td>-0.215211</td>\n",
       "      <td>-0.001999</td>\n",
       "      <td>-0.290431</td>\n",
       "    </tr>\n",
       "    <tr>\n",
       "      <th>Feature 3</th>\n",
       "      <td>0.003040</td>\n",
       "      <td>-0.000402</td>\n",
       "      <td>0.252372</td>\n",
       "      <td>1.000000</td>\n",
       "      <td>0.973526</td>\n",
       "      <td>0.016487</td>\n",
       "      <td>0.217848</td>\n",
       "      <td>0.019984</td>\n",
       "      <td>0.027256</td>\n",
       "      <td>-0.080666</td>\n",
       "      <td>...</td>\n",
       "      <td>-0.005756</td>\n",
       "      <td>-0.005116</td>\n",
       "      <td>-0.039510</td>\n",
       "      <td>0.037549</td>\n",
       "      <td>0.125101</td>\n",
       "      <td>-0.115623</td>\n",
       "      <td>-0.010565</td>\n",
       "      <td>0.032897</td>\n",
       "      <td>-0.039160</td>\n",
       "      <td>0.083329</td>\n",
       "    </tr>\n",
       "    <tr>\n",
       "      <th>Feature 4</th>\n",
       "      <td>-0.044016</td>\n",
       "      <td>-0.004410</td>\n",
       "      <td>0.292024</td>\n",
       "      <td>0.973526</td>\n",
       "      <td>1.000000</td>\n",
       "      <td>0.015959</td>\n",
       "      <td>0.216658</td>\n",
       "      <td>-0.033365</td>\n",
       "      <td>0.009868</td>\n",
       "      <td>-0.096457</td>\n",
       "      <td>...</td>\n",
       "      <td>-0.006644</td>\n",
       "      <td>-0.011140</td>\n",
       "      <td>0.001283</td>\n",
       "      <td>0.041069</td>\n",
       "      <td>0.118215</td>\n",
       "      <td>-0.100402</td>\n",
       "      <td>-0.003986</td>\n",
       "      <td>0.034686</td>\n",
       "      <td>-0.041461</td>\n",
       "      <td>0.080311</td>\n",
       "    </tr>\n",
       "  </tbody>\n",
       "</table>\n",
       "<p>5 rows × 45 columns</p>\n",
       "</div>"
      ],
      "text/plain": [
       "           Feature 0  Feature 1  Feature 2  Feature 3  Feature 4  Feature 5  \\\n",
       "Feature 0   1.000000   0.515418   0.003181   0.003040  -0.044016   0.145920   \n",
       "Feature 1   0.515418   1.000000  -0.048969  -0.000402  -0.004410   0.025075   \n",
       "Feature 2   0.003181  -0.048969   1.000000   0.252372   0.292024   0.133567   \n",
       "Feature 3   0.003040  -0.000402   0.252372   1.000000   0.973526   0.016487   \n",
       "Feature 4  -0.044016  -0.004410   0.292024   0.973526   1.000000   0.015959   \n",
       "\n",
       "           Feature 6  Feature 7  Feature 8  Feature 9  ...  Feature 35  \\\n",
       "Feature 0   0.278383   0.893897   0.622778   0.122802  ...    0.112764   \n",
       "Feature 1  -0.003805   0.185153   0.510606  -0.078699  ...    0.118603   \n",
       "Feature 2   0.738512   0.004836  -0.142238   0.389801  ...   -0.331494   \n",
       "Feature 3   0.217848   0.019984   0.027256  -0.080666  ...   -0.005756   \n",
       "Feature 4   0.216658  -0.033365   0.009868  -0.096457  ...   -0.006644   \n",
       "\n",
       "           Feature 36  Feature 37  Feature 38  Feature 39  Feature 40  \\\n",
       "Feature 0    0.204094   -0.813311    0.092590   -0.014457    0.038953   \n",
       "Feature 1    0.097683   -0.239027    0.114960    0.013539   -0.008364   \n",
       "Feature 2   -0.146407    0.001122   -0.311997   -0.150927    0.066383   \n",
       "Feature 3   -0.005116   -0.039510    0.037549    0.125101   -0.115623   \n",
       "Feature 4   -0.011140    0.001283    0.041069    0.118215   -0.100402   \n",
       "\n",
       "           Feature 41  Feature 42  Feature 43  Feature 44  \n",
       "Feature 0    0.047555    0.013553    0.106115   -0.055969  \n",
       "Feature 1    0.019189    0.077993   -0.013865   -0.022113  \n",
       "Feature 2    0.004575   -0.215211   -0.001999   -0.290431  \n",
       "Feature 3   -0.010565    0.032897   -0.039160    0.083329  \n",
       "Feature 4   -0.003986    0.034686   -0.041461    0.080311  \n",
       "\n",
       "[5 rows x 45 columns]"
      ]
     },
     "metadata": {},
     "output_type": "display_data"
    }
   ],
   "source": [
    "# create the correlation matrix & visualize it\n",
    "rhoYourBoat = yourBoat.corr()\n",
    "print('Correlation Matrix')\n",
    "display(rhoYourBoat.head())"
   ]
  },
  {
   "cell_type": "code",
   "execution_count": 7,
   "metadata": {},
   "outputs": [
    {
     "data": {
      "text/plain": [
       "'feature_correlations.html'"
      ]
     },
     "execution_count": 7,
     "metadata": {},
     "output_type": "execute_result"
    }
   ],
   "source": [
    "# visualize the correlation matrix\n",
    "pltCorr = CorrelationsPlot(rhoYourBoat, trcLims=(0,0.5,0.75,0.9,0.95,1.0), tweaks=(22,1200,1200,1.03))\n",
    "plyoff.plot(pltCorr, filename='feature_correlations.html', auto_open=True, include_mathjax='cdn') # save one to file, in addition to the display"
   ]
  },
  {
   "cell_type": "code",
   "execution_count": null,
   "metadata": {},
   "outputs": [],
   "source": []
  }
 ],
 "metadata": {
  "kernelspec": {
   "display_name": "Python 3",
   "language": "python",
   "name": "python3"
  },
  "language_info": {
   "codemirror_mode": {
    "name": "ipython",
    "version": 3
   },
   "file_extension": ".py",
   "mimetype": "text/x-python",
   "name": "python",
   "nbconvert_exporter": "python",
   "pygments_lexer": "ipython3",
   "version": "3.7.10"
  }
 },
 "nbformat": 4,
 "nbformat_minor": 4
}
